{
 "cells": [
  {
   "cell_type": "raw",
   "metadata": {
    "vscode": {
     "languageId": "raw"
    }
   },
   "source": [
    "---\n",
    "layout: post\n",
    "title: accomplishments\n",
    "description: my accomplished/attempted\n",
    "type: issues\n",
    "comments: true\n",
    "permalink: /accomplishments\n",
    "---"
   ]
  },
  {
   "cell_type": "markdown",
   "metadata": {},
   "source": [
    "My accomplishments:\n",
    "I have accompolished learning HTML and CSS.\n",
    "I have attempted Javascript but i am a little unfamiliar with the language as I have gotten a little assistance from outside sources.\n",
    "I have also accomplished learnign the Github interface well. \n",
    "I hope to learn more in this class."
   ]
  }
 ],
 "metadata": {
  "kernelspec": {
   "display_name": "Python 3",
   "language": "python",
   "name": "python3"
  },
  "language_info": {
   "codemirror_mode": {
    "name": "ipython",
    "version": 3
   },
   "file_extension": ".py",
   "mimetype": "text/x-python",
   "name": "python",
   "nbconvert_exporter": "python",
   "pygments_lexer": "ipython3",
   "version": "3.11.3"
  }
 },
 "nbformat": 4,
 "nbformat_minor": 2
}
