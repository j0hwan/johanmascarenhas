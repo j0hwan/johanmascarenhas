{
 "cells": [
  {
   "cell_type": "raw",
   "metadata": {
    "vscode": {
     "languageId": "raw"
    }
   },
   "source": [
    "---\n",
    "layout: post\n",
    "title: CSP Inspiration \n",
    "description:  How the presentation Inspired me and the key takaeways from the presentation.\n",
    "type: issues \n",
    "comments: true\n",
    "permalink: /Inspiration\n",
    "---"
   ]
  },
  {
   "cell_type": "markdown",
   "metadata": {},
   "source": [
    "○Nathan and Aadit emphasized that communication is as important as technical skills, especially for interviews and teamwork. I understand that This is going to be useful for me later on in life.\n",
    "\n",
    "○Both discussed how starting small with projects can lead to bigger impactful ideas.\n",
    "\n",
    "○They also reflected on their personal experiences with real world problems .\n",
    "\n",
    "○Nathan’s mention of Scrum and Agile methods showed me how college can prepare for real-world projects. This inspired me to look into more projects and explore different techniques on how I can be more successful.\n",
    "\n",
    "○Aadit shared how being proactive and following what you are inspired by can help generate ideas which are entirely driven by yoiur passions. This motivates me to take initiative and follow what I and not anyone else wants to do.\n",
    "\n",
    "○Their stories, like Aadit’s work on Kasm servers and Nathan’s focus on community projects, showed the impact of combining skills with passion for the goal of helping others while enjoying it.\n",
    "\n",
    "○They inspired me to value clear communication, problem-solving, and collaboration, which I can apply now and in the future.\n",
    "\n",
    "○I learned that enjoying the journey while staying focused is key to success in high school, college, and beyond."
   ]
  },
  {
   "cell_type": "markdown",
   "metadata": {
    "vscode": {
     "languageId": "raw"
    }
   },
   "source": [
    "<img id=\"bullet\" src=\"https://lh7-rt.googleusercontent.com/docsz/AD_4nXcjex0DRqjwZ7E0bH05K1gQ31D02fXaytz1L9t2a6KcCMyoBZIEHIwRwiSH--fD3WTWKSChDKR8BGBptz86gYhgZ0kaoc9MfEzGNT4sV8TUoJL4c2Zbi1i3U7NLKmTf1X_RgFqArw?key=SSgoi-Hv09Ulx7wZopbHwpMJ\" width=\"200\" >"
   ]
  },
  {
   "cell_type": "raw",
   "metadata": {},
   "source": []
  }
 ],
 "metadata": {
  "kernelspec": {
   "display_name": "Python 3",
   "language": "python",
   "name": "python3"
  },
  "language_info": {
   "codemirror_mode": {
    "name": "ipython",
    "version": 3
   },
   "file_extension": ".py",
   "mimetype": "text/x-python",
   "name": "python",
   "nbconvert_exporter": "python",
   "pygments_lexer": "ipython3",
   "version": "3.11.3"
  }
 },
 "nbformat": 4,
 "nbformat_minor": 2
}
