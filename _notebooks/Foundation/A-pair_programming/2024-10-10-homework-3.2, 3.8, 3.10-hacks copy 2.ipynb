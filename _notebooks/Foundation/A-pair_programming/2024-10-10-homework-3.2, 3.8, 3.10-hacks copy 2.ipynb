{
 "cells": [
  {
   "cell_type": "raw",
   "metadata": {
    "vscode": {
     "languageId": "raw"
    }
   },
   "source": [
    "---\n",
    "layout: post\n",
    "title: Homework Day 3 (3.2, 3.8, 3.10)\n",
    "description: Anytime in Sprint 1 is time to show accomplishments to teacher. The last week of the Spring there will be a formal live review meeting.\n",
    "categories: [Collaboration]\n",
    "courses: { csse: {week: 3}, csp: {week: 3}, csa: {week: 2} }\n",
    "menu: nav/pair_programming.html\n",
    "permalink: /pair/showcase\n",
    "type: collab\n",
    "comments: true\n",
    "---"
   ]
  },
  {
   "cell_type": "markdown",
   "metadata": {},
   "source": [
    "Question #1"
   ]
  },
  {
   "cell_type": "markdown",
   "metadata": {},
   "source": [
    "3.2 Homework"
   ]
  },
  {
   "cell_type": "code",
   "execution_count": 1,
   "metadata": {},
   "outputs": [
    {
     "name": "stdout",
     "output_type": "stream",
     "text": [
      "Original dictionary: {'city': 'New York', 'population': 8400000, 'is_capital': False}\n",
      "Updated person dictionary: {'name': 'Alice', 'age': 31}\n",
      "Person dictionary in JSON format:\n",
      " {\n",
      "    \"name\": \"Alice\",\n",
      "    \"age\": 31\n",
      "}\n"
     ]
    }
   ],
   "source": [
    "import json\n",
    "\n",
    "my_dict = {\"city\": \"New York\", \"population\": 8400000, \"is_capital\": False}\n",
    "print(\"Original dictionary:\", my_dict)\n",
    "\n",
    "person = {\"name\": \"Alice\", \"age\": 30}\n",
    "person[\"age\"] = 31\n",
    "print(\"Updated person dictionary:\", person)\n",
    "\n",
    "person_json = json.dumps(person, indent=4)\n",
    "print(\"Person dictionary in JSON format:\\n\", person_json)"
   ]
  },
  {
   "cell_type": "markdown",
   "metadata": {},
   "source": [
    "3.2 Hack 1"
   ]
  },
  {
   "cell_type": "code",
   "execution_count": 2,
   "metadata": {},
   "outputs": [
    {
     "name": "stdout",
     "output_type": "stream",
     "text": [
      "The sum of 5 and 10 is: 15\n"
     ]
    }
   ],
   "source": [
    "def add_two_numbers(num1, num2):\n",
    "    \"\"\"Function to add two integers.\"\"\"\n",
    "    return num1 + num2\n",
    "\n",
    "try:\n",
    "    first_number = 5  \n",
    "    second_number = 10  \n",
    "\n",
    "    result = add_two_numbers(first_number, second_number)\n",
    "\n",
    "    print(f\"The sum of {first_number} and {second_number} is: {result}\")\n",
    "\n",
    "except ValueError:\n",
    "    print(\"Please enter valid integers.\")"
   ]
  },
  {
   "cell_type": "markdown",
   "metadata": {},
   "source": [
    "3.2 Hack 2"
   ]
  },
  {
   "cell_type": "code",
   "execution_count": 19,
   "metadata": {},
   "outputs": [
    {
     "name": "stdout",
     "output_type": "stream",
     "text": [
      "The length of the entered string is: 30\n",
      "The length of the entered string is: 39\n"
     ]
    }
   ],
   "source": [
    "user_string = \"Hello My name is luke STARRRR!\"\n",
    "\n",
    "string_length = len(user_string)\n",
    "\n",
    "print(f\"The length of the entered string is: {string_length}\")\n",
    "\n",
    "user_string = \"Hello My name is johan Mascarenhasssss!\"\n",
    "\n",
    "string_length = len(user_string)\n",
    "\n",
    "print(f\"The length of the entered string is: {string_length}\")\n",
    "\n"
   ]
  },
  {
   "cell_type": "markdown",
   "metadata": {},
   "source": [
    "3.10 popcorn hack 1"
   ]
  },
  {
   "cell_type": "code",
   "execution_count": 14,
   "metadata": {},
   "outputs": [
    {
     "name": "stdout",
     "output_type": "stream",
     "text": [
      "[3, 6, 9, 12, 15, 18, 21, 333, 12234]\n"
     ]
    }
   ],
   "source": [
    "numbers = [1, 2.6, 2, 3, 4, 5, 6, 9, 10, 12, 13, 15 ,17, 18, 19, 20, 21, 22, 23, 333, 445.3, 12234]\n",
    "numbers_divisible_by_3 = [num for num in numbers if num % 3 == 0]\n",
    "\n",
    "print(numbers_divisible_by_3) \n",
    "\n"
   ]
  },
  {
   "cell_type": "markdown",
   "metadata": {},
   "source": [
    "3.10 popcorn hack 2"
   ]
  },
  {
   "cell_type": "code",
   "execution_count": 35,
   "metadata": {
    "vscode": {
     "languageId": "javascript"
    }
   },
   "outputs": [
    {
     "data": {
      "application/javascript": "\nconst randomNumbers = [3, 4, 8, 9, 1, 80, 77];\n\nrandomNumbers.sort((a, b) => a - b);\nconsole.log(randomNumbers); \n\nconst numberWords = [\"three\", \"four\", \"eight\", \"nine\", \"one\", \"eighty\", \"seventy-seven\"];\n\nnode popcorn_hacks.js\n",
      "text/plain": [
       "<IPython.core.display.Javascript object>"
      ]
     },
     "metadata": {},
     "output_type": "display_data"
    }
   ],
   "source": [
    "%%javascript\n",
    "\n",
    "const randomNumbers = [3, 4, 8, 9, 1, 80, 77];\n",
    "\n",
    "randomNumbers.sort((a, b) => a - b);\n",
    "console.log(randomNumbers); \n",
    "\n",
    "const numberWords = [\"three\", \"four\", \"eight\", \"nine\", \"one\", \"eighty\", \"seventy-seven\"];\n",
    "\n",
    "node popcorn_hacks.js"
   ]
  },
  {
   "cell_type": "markdown",
   "metadata": {},
   "source": [
    "3.10 Homework 1"
   ]
  },
  {
   "cell_type": "code",
   "execution_count": 37,
   "metadata": {},
   "outputs": [
    {
     "name": "stdout",
     "output_type": "stream",
     "text": [
      "'iphone' added to the list.\n",
      "'airpods' added to the list.\n",
      "'airpods' is in the list.\n",
      "'iphone' removed from the list.\n",
      "Current list: ['airpods']\n",
      "'10' added to the list.\n",
      "'5' added to the list.\n",
      "The list is empty or contains non-numeric values.\n",
      "The list is empty or contains non-numeric values.\n",
      "Exiting program.\n"
     ]
    }
   ],
   "source": [
    "def display_list(aList):\n",
    "    print(\"Current list:\", aList)\n",
    "\n",
    "def add_item(aList, item):\n",
    "    aList.append(item)\n",
    "    print(f\"'{item}' added to the list.\")\n",
    "\n",
    "def remove_item(aList, item):\n",
    "    if item in aList:\n",
    "        aList.remove(item)\n",
    "        print(f\"'{item}' removed from the list.\")\n",
    "    else:\n",
    "        print(f\"'{item}' not found in the list.\")\n",
    "\n",
    "def check_item(aList, item):\n",
    "    if item in aList:\n",
    "        print(f\"'{item}' is in the list.\")\n",
    "    else:\n",
    "        print(f\"'{item}' is not in the list.\")\n",
    "\n",
    "def find_max(aList):\n",
    "    max_val = aList[0]\n",
    "    for num in aList:\n",
    "        if num > max_val:\n",
    "            max_val = num\n",
    "    return max_val\n",
    "\n",
    "def find_min(aList):\n",
    "    min_val = aList[0]\n",
    "    for num in aList:\n",
    "        if num < min_val:\n",
    "            min_val = num\n",
    "    return min_val\n",
    "\n",
    "user_list = []\n",
    "actions = [\n",
    "    ('add', 'iphone'),\n",
    "    ('add', 'airpods'),\n",
    "    ('check', 'airpods'),\n",
    "    ('remove', 'iphone'),\n",
    "    ('display', None),\n",
    "    ('add', 10),\n",
    "    ('add', 5),\n",
    "    ('max', None),\n",
    "    ('min', None),\n",
    "    ('quit', None)\n",
    "]\n",
    "\n",
    "for action, value in actions:\n",
    "    if action == 'add':\n",
    "        add_item(user_list, value)\n",
    "    elif action == 'remove':\n",
    "        remove_item(user_list, value)\n",
    "    elif action == 'check':\n",
    "        check_item(user_list, value)\n",
    "    elif action == 'display':\n",
    "        display_list(user_list)\n",
    "    elif action == 'max':\n",
    "        if user_list and all(isinstance(x, (int, float)) for x in user_list):\n",
    "            print(\"Max value in the list:\", find_max(user_list))\n",
    "        else:\n",
    "            print(\"The list is empty or contains non-numeric values.\")\n",
    "    elif action == 'min':\n",
    "        if user_list and all(isinstance(x, (int, float)) for x in user_list):\n",
    "            print(\"Min value in the list:\", find_min(user_list))\n",
    "        else:\n",
    "            print(\"The list is empty or contains non-numeric values.\")\n",
    "    elif action == 'quit':\n",
    "        print(\"Exiting program.\")\n",
    "        break"
   ]
  },
  {
   "cell_type": "markdown",
   "metadata": {
    "vscode": {
     "languageId": "raw"
    }
   },
   "source": [
    "3.8 popcorn Hack"
   ]
  },
  {
   "cell_type": "code",
   "execution_count": 1,
   "metadata": {},
   "outputs": [
    {
     "ename": "NameError",
     "evalue": "name 'nums' is not defined",
     "output_type": "error",
     "traceback": [
      "\u001b[1;31m---------------------------------------------------------------------------\u001b[0m",
      "\u001b[1;31mNameError\u001b[0m                                 Traceback (most recent call last)",
      "Cell \u001b[1;32mIn[1], line 6\u001b[0m\n\u001b[0;32m      3\u001b[0m not_divisible_by_3 \u001b[38;5;241m=\u001b[39m []\n\u001b[0;32m      5\u001b[0m \u001b[38;5;66;03m# Iterate through the list and categorize numbers\u001b[39;00m\n\u001b[1;32m----> 6\u001b[0m \u001b[38;5;28;01mfor\u001b[39;00m num \u001b[38;5;129;01min\u001b[39;00m \u001b[43mnums\u001b[49m:\n\u001b[0;32m      7\u001b[0m     \u001b[38;5;28;01mif\u001b[39;00m num \u001b[38;5;241m%\u001b[39m \u001b[38;5;241m3\u001b[39m \u001b[38;5;241m==\u001b[39m \u001b[38;5;241m0\u001b[39m:\n\u001b[0;32m      8\u001b[0m         divisible_by_3\u001b[38;5;241m.\u001b[39mappend(num)\n",
      "\u001b[1;31mNameError\u001b[0m: name 'nums' is not defined"
     ]
    }
   ],
   "source": [
    "# Create empty lists\n",
    "divisible_by_3 = []\n",
    "not_divisible_by_3 = []\n",
    "\n",
    "# Iterate through the list and categorize numbers\n",
    "for num in nums:\n",
    "    if num % 3 == 0:\n",
    "        divisible_by_3.append(num)\n",
    "    else:\n",
    "        not_divisible_by_3.append(num)\n",
    "\n",
    "# Print results\n",
    "print(\"Numbers divisible by 3:\")\n",
    "for num in divisible_by_3:\n",
    "    print(num)\n",
    "\n",
    "print(\"\\nNumbers not divisible by 3:\")\n",
    "for num in not_divisible_by_3:\n",
    "    print(num)"
   ]
  },
  {
   "cell_type": "markdown",
   "metadata": {},
   "source": [
    "Homework 1 for 3.8"
   ]
  },
  {
   "cell_type": "code",
   "execution_count": 4,
   "metadata": {},
   "outputs": [
    {
     "name": "stdout",
     "output_type": "stream",
     "text": [
      "1\n",
      "2\n",
      "3.5\n",
      "4\n",
      "5\n"
     ]
    }
   ],
   "source": [
    "numbers = [1, 2, 3, 3.5, 4, 5, 6, 7, 8, 9, 11]\n",
    "for num in numbers:\n",
    "    if num == 3:\n",
    "        continue\n",
    "    if num == 6:\n",
    "        break\n",
    "    print(num)"
   ]
  },
  {
   "cell_type": "raw",
   "metadata": {
    "vscode": {
     "languageId": "raw"
    }
   },
   "source": [
    "Homework 2 for 3.8"
   ]
  },
  {
   "cell_type": "code",
   "execution_count": 26,
   "metadata": {},
   "outputs": [
    {
     "name": "stdout",
     "output_type": "stream",
     "text": [
      "-12\n",
      "1\n",
      "2\n",
      "3\n",
      "4\n",
      "5\n",
      "6.632\n",
      "12\n",
      "141\n",
      "414\n",
      "0\n",
      "1\n",
      "3\n",
      "4\n",
      "7\n",
      "9\n",
      "16.5\n",
      "18\n",
      "21\n",
      "22.5\n"
     ]
    }
   ],
   "source": [
    "numbers = [-12, 1, 2, 3, 4, 5, 6.632, 12, 141, 414 ]\n",
    "Ages = [0, 1, 3, 4, 7, 9, 16.5, 18, 21, 22.5]\n",
    "\n",
    "for number in numbers:\n",
    "    print(number)\n",
    "\n",
    "for number in Ages:\n",
    "    print(number)"
   ]
  }
 ],
 "metadata": {
  "kernelspec": {
   "display_name": "Python 3",
   "language": "python",
   "name": "python3"
  },
  "language_info": {
   "codemirror_mode": {
    "name": "ipython",
    "version": 3
   },
   "file_extension": ".py",
   "mimetype": "text/x-python",
   "name": "python",
   "nbconvert_exporter": "python",
   "pygments_lexer": "ipython3",
   "version": "3.11.3"
  },
  "orig_nbformat": 4
 },
 "nbformat": 4,
 "nbformat_minor": 2
}
