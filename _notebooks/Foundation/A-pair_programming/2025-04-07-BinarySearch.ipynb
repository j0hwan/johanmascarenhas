{
 "cells": [
  {
   "cell_type": "raw",
   "metadata": {
    "vscode": {
     "languageId": "raw"
    }
   },
   "source": [
    "---\n",
    "layout: post\n",
    "title: Binary Search lesson w/ homeworks\n",
    "comments: true\n",
    "permalink: /binarysearch\n",
    "---"
   ]
  },
  {
   "cell_type": "markdown",
   "metadata": {},
   "source": [
    "Binary search is an algorithm that allows for dividing and conquering to select a target value in a osrted list.\n",
    "Benefit: allows to cut on time to find a value\n",
    "\n",
    "**Popcorn Hack #1:**\n",
    "I think the values in the numlist must be in sorted order because you add 1 is thet target estimate is higher than the found and you subtract one is the target estimate is lower than teh found.\n",
    "\n",
    "Binary search is way more efficient than linear search. Binary Search is logarithmic. Big O notation describes the wort case scenario in an algorithm.\n",
    "\n",
    "with sorted data? \n",
    "- linear search\n",
    "\n",
    "Sorted large list \n",
    "- binary search\n",
    "\n",
    "\n",
    "**Applications**\n",
    "- searching in sorted records\n",
    "- games, AI\n",
    "\n",
    "**Popcorn Hack #2**\n",
    "B) binary search cannot be used on unsorted lists without modifications.\n",
    "\n",
    "The list of strings could be sorted alphabeticaally or lexicography\n",
    "\n",
    "\n",
    "**Popcorn Hack #3**\n",
    "\n"
   ]
  },
  {
   "cell_type": "code",
   "execution_count": null,
   "metadata": {},
   "outputs": [],
   "source": [
    "def binary_search_strings(arr, target):\n",
    "    low, high = 0, len(arr) - 1\n",
    "\n",
    "    while low <= high:\n",
    "        mid = (low + high) // 2\n",
    "        guess = arr[mid]\n",
    "\n",
    "        if guess == target:\n",
    "            return mid  # Found it!\n",
    "        elif guess < target:\n",
    "            low = mid + 1  # Target comes after mid\n",
    "        else:\n",
    "            high = mid - 1  # Target comes before mid\n",
    "\n",
    "    return -1  # Not found\n",
    "words = [\"a\", \"b\", \"c\", \"d\", \"e\", \"f\", \"g\"]\n",
    "print(binary_search_strings(words, \"c\"))  "
   ]
  },
  {
   "cell_type": "code",
   "execution_count": null,
   "metadata": {},
   "outputs": [],
   "source": [
    "import pandas as pd\n",
    "\n",
    "# Load the dataset\n",
    "data = pd.read_csv(\"school_supplies.csv\")\n",
    "\n",
    "# Drop rows with missing values\n",
    "data_cleaned = data.dropna()\n",
    "\n",
    "# Sort the data by 'Price'\n",
    "data_sorted = data_cleaned.sort_values(by=\"Price\")\n",
    "\n",
    "# Extract sorted prices as a list\n",
    "price_list = data_sorted[\"Price\"].tolist()\n",
    "\n",
    "# Preview the sorted data\n",
    "print(\"First few rows of sorted data:\")\n",
    "print(data_sorted.head())\n",
    "print(\"Original row count:\", len(data))\n",
    "print(\"Cleaned row count:\", len(data_cleaned))\n",
    "\n",
    "# Binary search function\n",
    "def binary_search(arr, target):\n",
    "    low = 0\n",
    "    high = len(arr) - 1\n",
    "    while low <= high:\n",
    "        mid = (low + high) // 2\n",
    "        if arr[mid] == target:\n",
    "            return True\n",
    "        elif arr[mid] < target:\n",
    "            low = mid + 1\n",
    "        else:\n",
    "            high = mid - 1\n",
    "    return False\n",
    "\n",
    "# Prices to search for\n",
    "search_prices = [1.25, 6.49, 10.00]\n",
    "\n",
    "# Perform the search and print results\n",
    "for price in search_prices:\n",
    "    found = binary_search(price_list, price)\n",
    "    if found:\n",
    "        print(f\"Price ${price:.2f} was found in the dataset.\")\n",
    "    else:\n",
    "        print(f\"Price ${price:.2f} was NOT found in the dataset.\")\n"
   ]
  }
 ],
 "metadata": {
  "kernelspec": {
   "display_name": "Python 3",
   "language": "python",
   "name": "python3"
  },
  "language_info": {
   "codemirror_mode": {
    "name": "ipython",
    "version": 3
   },
   "file_extension": ".py",
   "mimetype": "text/x-python",
   "name": "python",
   "nbconvert_exporter": "python",
   "pygments_lexer": "ipython3",
   "version": "3.11.3"
  }
 },
 "nbformat": 4,
 "nbformat_minor": 2
}
