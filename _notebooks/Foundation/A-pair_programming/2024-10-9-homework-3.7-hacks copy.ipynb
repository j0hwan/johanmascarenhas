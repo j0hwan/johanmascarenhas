{
 "cells": [
  {
   "cell_type": "raw",
   "metadata": {
    "vscode": {
     "languageId": "raw"
    }
   },
   "source": [
    "---\n",
    "layout: post\n",
    "title: Pair Showcase\n",
    "description: Anytime in Sprint 1 is time to show accomplishments to teacher. The last week of the Spring there will be a formal live review meeting.\n",
    "categories: [Collaboration]\n",
    "courses: { csse: {week: 3}, csp: {week: 3}, csa: {week: 2} }\n",
    "menu: nav/pair_programming.html\n",
    "permalink: /pair/showcase\n",
    "type: collab\n",
    "comments: true\n",
    "---"
   ]
  },
  {
   "cell_type": "markdown",
   "metadata": {},
   "source": [
    "Question #1"
   ]
  },
  {
   "cell_type": "code",
   "execution_count": 4,
   "metadata": {},
   "outputs": [
    {
     "name": "stdout",
     "output_type": "stream",
     "text": [
      "You are eligible to vote.\n"
     ]
    }
   ],
   "source": [
    "# Function to determine voting eligibility\n",
    "def check_voting_eligibility(age):\n",
    "    if age >= 18:\n",
    "        print(\"You are eligible to vote.\")\n",
    "    else:\n",
    "        print(\"You are not eligible to vote.\")\n",
    "\n",
    "# Example usage\n",
    "age = int(input(\"Enter your age: \"))  # Getting user input\n",
    "check_voting_eligibility(age)"
   ]
  },
  {
   "cell_type": "markdown",
   "metadata": {},
   "source": [
    "Question #2"
   ]
  },
  {
   "cell_type": "code",
   "execution_count": 1,
   "metadata": {},
   "outputs": [
    {
     "name": "stdout",
     "output_type": "stream",
     "text": [
      "You don't care about what you eat. How about a coffee?\n"
     ]
    }
   ],
   "source": [
    "# Get user input\n",
    "health_status = input(\"Are you healthy, unhealthy, or indifferent about food? (healthy/unhealthy/indifferent): \").strip().lower()\n",
    "\n",
    "# Check the user's health status and provide food recommendations\n",
    "if health_status == \"healthy\":\n",
    "    print(\"You should eat an apple!\")\n",
    "elif health_status == \"unhealthy\":\n",
    "    print(\"You should eat chocolate!\")\n",
    "else:\n",
    "    print(\"You don't care about what you eat. How about a coffee?\")"
   ]
  }
 ],
 "metadata": {
  "kernelspec": {
   "display_name": "Python 3",
   "language": "python",
   "name": "python3"
  },
  "language_info": {
   "codemirror_mode": {
    "name": "ipython",
    "version": 3
   },
   "file_extension": ".py",
   "mimetype": "text/x-python",
   "name": "python",
   "nbconvert_exporter": "python",
   "pygments_lexer": "ipython3",
   "version": "3.11.3"
  },
  "orig_nbformat": 4
 },
 "nbformat": 4,
 "nbformat_minor": 2
}
