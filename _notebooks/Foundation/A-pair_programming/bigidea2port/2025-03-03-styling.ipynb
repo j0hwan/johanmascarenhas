{
 "cells": [
  {
   "cell_type": "raw",
   "metadata": {
    "vscode": {
     "languageId": "raw"
    }
   },
   "source": [
    "---\n",
    "layout: post\n",
    "title: Styling \n",
    "description:  Styling w/ homeworks\n",
    "comments: true\n",
    "permalink: /stylingg\n",
    "---"
   ]
  },
  {
   "cell_type": "markdown",
   "metadata": {},
   "source": [
    "10/10 mango mango mango mango introduction"
   ]
  },
  {
   "cell_type": "markdown",
   "metadata": {},
   "source": [
    "---\n",
    "layout: post\n",
    "title:  \"Styling Hacks & Legal-Ethical Hacks (All-in-One)\"\n",
    "date:   2025-03-31\n",
    "categories: [DevOps]\n",
    "tags: [Tailwind, Bootstrap, Theme, Jekyll, Licensing, Ethics, Open Source]\n",
    "excerpt: \"Notes on utility frameworks, responsive themes, and protecting intellectual property with open-source licences.\"\n",
    "---\n",
    "\n",
    "<!-- ─────── Styling Hacks ─────── -->\n",
    "<span class=\"post-meta\">\n",
    "Mar&nbsp;31,&nbsp;2025 • 3&nbsp;min read\n",
    "</span>\n",
    "\n",
    "<p class=\"category-tags\">\n",
    "  <i class=\"fas fa-tags category-tags-icon\"></i>\n",
    "  <a class=\"category-tags-link\" href=\"/categories/devops#DevOps\">DevOps</a>\n",
    "</p>\n",
    "\n",
    "# Styling Hacks 🎨\n",
    "\n",
    "### Tailwind\n",
    "* Utility-first classes (`p-4`, `bg-blue-600`, etc.) mean **no custom CSS editing**.  \n",
    "* Ready-made **responsive prefixes** (`sm:`, `md:`…) adapt styles as the viewport changes.\n",
    "\n",
    "### Bootstrap\n",
    "* The template uses a **content wrapper** (`<div class=\"container-xxl\"> …`) to centre and constrain pages.  \n",
    "* Handy when you need quick navbars, cards, grids.\n",
    "\n",
    "### Theme\n",
    "* Acts as the **outer shell** for every page (header, footer, sidebar).  \n",
    "* A good theme is responsive—watch how the UI morphs when you resize the browser window.\n",
    "\n",
    "### Jekyll Layouts\n",
    "* The YAML block at the top of each file chooses a **layout** (e.g. `layout: post`).  \n",
    "* Layouts **cascade**: a `post` layout can extend a `default` layout so you don’t repeat HTML chrome.\n",
    "\n",
    "---\n",
    "\n",
    "<!-- ─────── Legal & Ethical Concerns ─────── -->\n",
    "<span class=\"post-meta\">\n",
    "Mar&nbsp;31,&nbsp;2025 • 2&nbsp;min read\n",
    "</span>\n",
    "\n",
    "<p class=\"category-tags\">\n",
    "  <i class=\"fas fa-tags category-tags-icon\"></i>\n",
    "  <a class=\"category-tags-link\" href=\"/categories/devops#DevOps\">DevOps</a>\n",
    "</p>\n",
    "\n",
    "# Legal & Ethical Concerns Hacks ⚖️\n",
    "\n",
    "## Popcorn Hack 1 – Protecting IP\n",
    "* **Patents** protect inventions and motivate creators.  \n",
    "* **Copyright** lets musicians block unauthorised song distribution.  \n",
    "* Other tools: **trademarks**, **DRM**.\n",
    "\n",
    "## Popcorn Hack 2 – MIT Licence\n",
    "* Permits reuse **as long as** the original copyright & licence text stay intact.  \n",
    "* Great for class projects—allows collaboration but ensures credit.\n",
    "\n",
    "## Popcorn Hack 3 – Creative Commons & Exceptions\n",
    "* CC licences let creators pre-define reuse rules.  \n",
    "* Copyright exceptions: *fair use* (education, research, parody), public-domain works, library archives.\n",
    "\n",
    "## Popcorn Hack 4 – Avoiding Infringement\n",
    "* Verify licences and permissions before using external assets.  \n",
    "* Easiest path: **create your own content**.\n",
    "\n",
    "---\n",
    "\n",
    "## Homework Hack – Chosen Licence: **Apache 2.0**\n",
    "* Keeps our authorship clear.  \n",
    "* Doesn’t force us to open-source future changes.  \n",
    "* Users can still study and improve the code (must attribute us).  \n",
    "\n",
    "*Licence file →* [`LICENSE`](./LICENSE)\n",
    "\n",
    "## Extra Credit – *MediPulse* Project 🚑🤖\n",
    "A website that leverages ML and algorithms to recommend the best San Diego hospital for a patient’s ailment (e.g. ACL tear).  \n",
    "Apache 2.0 protects our work while letting partners inspect the source.\n"
   ]
  }
 ],
 "metadata": {
  "kernelspec": {
   "display_name": "Python 3",
   "language": "python",
   "name": "python3"
  },
  "language_info": {
   "codemirror_mode": {
    "name": "ipython",
    "version": 3
   },
   "file_extension": ".py",
   "mimetype": "text/x-python",
   "name": "python",
   "nbconvert_exporter": "python",
   "pygments_lexer": "ipython3",
   "version": "3.11.3"
  }
 },
 "nbformat": 4,
 "nbformat_minor": 2
}
