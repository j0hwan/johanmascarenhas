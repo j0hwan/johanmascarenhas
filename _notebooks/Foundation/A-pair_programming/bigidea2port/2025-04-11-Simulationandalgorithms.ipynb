{
 "cells": [
  {
   "cell_type": "raw",
   "metadata": {
    "vscode": {
     "languageId": "raw"
    }
   },
   "source": [
    "---\n",
    "layout: post\n",
    "title: Simulations and Algorithms \n",
    "description:  Simulation and ALgorithms lesson w/ homeworks\n",
    "comments: true\n",
    "permalink: /simulationandalgorithm\n",
    "---"
   ]
  },
  {
   "cell_type": "markdown",
   "metadata": {},
   "source": [
    "Random algorithms are a random way to pick a value form a set.\n",
    "Cryptography is a good exmple of random algorithms as well as games and stocks.\n"
   ]
  },
  {
   "cell_type": "code",
   "execution_count": 6,
   "metadata": {},
   "outputs": [
    {
     "name": "stdout",
     "output_type": "stream",
     "text": [
      "Today’s random activity: Watch a movie\n"
     ]
    }
   ],
   "source": [
    "# Popcorn Hack Number 2 (Random): Make a random algorithm to choose a daily activity:\n",
    "import random\n",
    "# Step 1: Define a list of activities\n",
    "activities = ['Game', 'eat', 'sleep', 'study', 'Watch a movie', 'run', 'facetime a friend']\n",
    "# Step 2: Randomly choose an activity\n",
    "random_activity = random.choice(activities)\n",
    "# Step 3: Display the chosen activity\n",
    "print(f\"Today’s random activity: {random_activity}\")"
   ]
  },
  {
   "cell_type": "code",
   "execution_count": null,
   "metadata": {},
   "outputs": [],
   "source": [
    "# Popcorn Hack Number 3: Using a loops in random\n",
    "# This popcorn hack assigns an activity to each person\n",
    "import random\n",
    "hosts = ['Gavin Copley', 'Elliot Bang', 'Johan']\n",
    "activities = ['take a selfie', 'games', 'sleep', 'party', 'dance']\n",
    "# Randomly shuffle the list of activities to assign them randomly to the guests\n",
    "random.shuffle(activities)\n",
    "# Loop through each guest and assign them a random activity\n",
    "for i in range(len(hosts)):\n",
    "    print(f\"{hosts[i]} will be monitoring {activities[i]}!\")"
   ]
  },
  {
   "cell_type": "code",
   "execution_count": 7,
   "metadata": {},
   "outputs": [
    {
     "name": "stdout",
     "output_type": "stream",
     "text": [
      "Number: 657948189499\n"
     ]
    }
   ],
   "source": [
    "import random\n",
    "\n",
    "def roll_dice():\n",
    "    return random.randint(1, 690000000000)\n",
    "\n",
    "dice_roll = roll_dice()\n",
    "print(\"Number:\", dice_roll)"
   ]
  },
  {
   "cell_type": "code",
   "execution_count": 9,
   "metadata": {},
   "outputs": [
    {
     "name": "stdout",
     "output_type": "stream",
     "text": [
      "Computer chose: rock\n",
      "You chose: rock\n",
      "It's a tie!\n"
     ]
    }
   ],
   "source": [
    "import random\n",
    "\n",
    "def play_rock_paper_scissors():\n",
    "    choices = ['rock', 'paper', 'scissors']\n",
    "    computer_choice = random.choice(choices)\n",
    "    user_choice = input(\"Enter your choice (rock, paper, or scissors): \")\n",
    "\n",
    "    if user_choice not in choices:\n",
    "        print(\"Invalid choice. Please try again.\")\n",
    "        return\n",
    "\n",
    "    print(\"Computer chose:\", computer_choice)\n",
    "    print(\"You chose:\", user_choice)\n",
    "\n",
    "    if user_choice == computer_choice:\n",
    "        print(\"It's a tie!\")\n",
    "    elif (user_choice == 'rock' and computer_choice == 'scissors') or (user_choice == 'paper' and computer_choice == 'rock') or (user_choice == 'scissors' and computer_choice == 'paper'):\n",
    "        print(\"You win!\")\n",
    "    else:\n",
    "        print(\"You lose!\")\n",
    "\n",
    "play_rock_paper_scissors()"
   ]
  },
  {
   "cell_type": "markdown",
   "metadata": {},
   "source": [
    "Homeworks:"
   ]
  },
  {
   "cell_type": "code",
   "execution_count": null,
   "metadata": {},
   "outputs": [],
   "source": [
    "import random\n",
    "\n",
    "students = [\n",
    "    \"Alice\", \"Bob\", \"Charlie\", \"Diana\", \"Ethan\",\n",
    "    \"Fiona\", \"George\", \"Hannah\", \"Ivan\", \"Jade\",\n",
    "    \"Kyle\", \"Liam\", \"Maya\", \"Nina\", \"Oscar\"\n",
    "]\n",
    "\n",
    "teams = {\n",
    "    \"Team Thunder\": [],\n",
    "    \"Team Lightning\": [],\n",
    "    \"Team Tornado\": []\n",
    "}\n",
    "\n",
    "for student in students:\n",
    "    team_name = random.choice(list(teams.keys()))\n",
    "    teams[team_name].append(student)\n",
    "\n",
    "print(\"Team Assignments:\\n\")\n",
    "for team, members in teams.items():\n",
    "    print(f\"{team}: {', '.join(members)}\")\n"
   ]
  },
  {
   "cell_type": "markdown",
   "metadata": {},
   "source": [
    "============================================="
   ]
  },
  {
   "cell_type": "code",
   "execution_count": null,
   "metadata": {},
   "outputs": [],
   "source": [
    "weather_types = [\"Sunny\", \"Cloudy\", \"Rainy\"]\n",
    "forecast = []\n",
    "\n",
    "for day in range(1, 8):\n",
    "    weather = random.choice(weather_types)\n",
    "    forecast.append(weather)\n",
    "    print(f\"Day {day}: {weather}\")\n"
   ]
  },
  {
   "cell_type": "markdown",
   "metadata": {},
   "source": [
    "============================================"
   ]
  },
  {
   "cell_type": "code",
   "execution_count": null,
   "metadata": {},
   "outputs": [],
   "source": [
    "service_times = [random.randint(1, 5) for _ in range(5)]\n",
    "total_time = 0\n",
    "\n",
    "print(\"\\nCoffee Shop Queue Simulation:\\n\")\n",
    "for i, time in enumerate(service_times):\n",
    "    total_time += time\n",
    "    print(f\"Customer {i+1} service time: {time} minutes\")\n",
    "\n",
    "print(f\"\\nTotal time to serve all customers: {total_time} minutes\")\n"
   ]
  }
 ],
 "metadata": {
  "kernelspec": {
   "display_name": "venv",
   "language": "python",
   "name": "python3"
  },
  "language_info": {
   "codemirror_mode": {
    "name": "ipython",
    "version": 3
   },
   "file_extension": ".py",
   "mimetype": "text/x-python",
   "name": "python",
   "nbconvert_exporter": "python",
   "pygments_lexer": "ipython3",
   "version": "3.12.3"
  }
 },
 "nbformat": 4,
 "nbformat_minor": 2
}
