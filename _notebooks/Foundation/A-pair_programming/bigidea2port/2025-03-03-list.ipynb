{
 "cells": [
  {
   "cell_type": "raw",
   "metadata": {
    "vscode": {
     "languageId": "raw"
    }
   },
   "source": [
    "---\n",
    "layout: post\n",
    "title: List homework blog\n",
    "description:  List 2, Digital Divide\n",
    "comments: true\n",
    "permalink: /listss\n",
    "---"
   ]
  },
  {
   "cell_type": "markdown",
   "metadata": {},
   "source": [
    "<span class=\"post-meta\">Mar&nbsp;31,&nbsp;2025 • 3&nbsp;min read</span>\n",
    "\n",
    "<p class=\"category-tags\">\n",
    "  <i class=\"fas fa-tags category-tags-icon\"></i>\n",
    "  <a class=\"category-tags-link\" href=\"/categories/devops#DevOps\">DevOps</a>\n",
    "</p>\n",
    "\n",
    "# Styling Hacks \n",
    "\n",
    "## Tailwind CSS\n",
    "* Utility-first classes—`p-4 bg-blue-600` etc.—replace custom CSS.  \n",
    "* Responsive helpers (`sm:`, `md:` …) kick in automatically when you resize.\n",
    "\n",
    "## Bootstrap\n",
    "* Uses a *content wrapper* (`<div class=\"container-xxl\">`) for layout.  \n",
    "* Handy if you need pre-built navbars, alerts, grids fast.\n",
    "\n",
    "## Theme / Layout Shell\n",
    "* The *outer chrome* (header, footer, sidebar).  \n",
    "* A responsive theme adapts as the viewport changes; no manual media queries.\n",
    "\n",
    "## Jekyll Layout Cascade\n",
    "* Each page declares its layout in YAML front-matter.  \n",
    "* Layouts can nest, so a `post` layout can extend `default`.\n",
    "\n",
    "---\n",
    "\n",
    "<!-- ──────────────────────────────── -->\n",
    "<span class=\"post-meta\">Mar&nbsp;31,&nbsp;2025 • 2&nbsp;min read</span>\n",
    "\n",
    "<p class=\"category-tags\">\n",
    "  <i class=\"fas fa-tags category-tags-icon\"></i>\n",
    "  <a class=\"category-tags-link\" href=\"/categories/devops#DevOps\">DevOps</a>\n",
    "</p>\n",
    "\n",
    "# Legal & Ethical Concerns Hacks \n",
    "\n",
    "### Popcorn Hack 1 – IP Basics  \n",
    "Patents, copyrights, trademarks, DRM → protect creators and motivate innovation.\n",
    "\n",
    "### Popcorn Hack 2 – MIT Licence  \n",
    "*“Do whatever you want, just keep my copyright & licence notice.”*\n",
    "\n",
    "### Popcorn Hack 3 – Creative Commons & Fair Use  \n",
    "CC licences pre-declare remix rules; fair-use exceptions cover education, parody, archives, public domain.\n",
    "\n",
    "### Popcorn Hack 4 – Avoiding Infringement  \n",
    "Create your own assets or verify licences/permissions before publishing.\n",
    "\n",
    "---\n",
    "\n",
    "## Homework Hack – My Licence Choice: **Apache 2.0**\n",
    "* Retains my copyright.  \n",
    "* No obligation to open-source future changes.  \n",
    "* Still lets others study/extend the code (with attribution).  \n",
    "* See licence file → [`LICENSE`](./LICENSE)\n",
    "\n",
    "## Extra Credit – *MediPulse* Project\n",
    "ML-powered hospital recommender for San Diego. Apache 2.0 lets us innovate safely while remaining transparent to partners.\n",
    "\n",
    "---\n",
    "\n",
    "<!-- ──────────────────────────────── -->\n",
    "<span class=\"post-meta\">Apr&nbsp;8,&nbsp;2025 • 4&nbsp;min read</span>\n",
    "\n",
    "<p class=\"category-tags\">\n",
    "  <i class=\"fas fa-tags category-tags-icon\"></i>\n",
    "  <a class=\"category-tags-link\" href=\"/categories/devops#DevOps\">DevOps</a>\n",
    "</p>\n",
    "\n",
    "# Lists Hacks 🐍"
   ]
  },
  {
   "cell_type": "code",
   "execution_count": null,
   "metadata": {},
   "outputs": [],
   "source": [
    "movies = ['minecraft movie', 'star wars', 'the matrix', 'interstellar']\n",
    "print(movies)\n",
    "\n",
    "movies[1] = 'spiderman'      # replace an item\n",
    "print(movies)\n",
    "\n",
    "movies.append('endgame')      # add to the end\n",
    "print(movies)\n"
   ]
  },
  {
   "cell_type": "code",
   "execution_count": null,
   "metadata": {},
   "outputs": [],
   "source": [
    "ages = [15, 20, 34, 16, 18, 21, 14, 19]\n",
    "ages_voting = [num for num in ages if num >= 18]\n",
    "print(ages_voting)      # ➜ [20, 34, 18, 21, 19]\n"
   ]
  },
  {
   "cell_type": "code",
   "execution_count": null,
   "metadata": {},
   "outputs": [],
   "source": [
    "ages = [15, 20, 34, 16, 18, 21, 14, 19]\n",
    "ages_voting = [num for num in ages if num >= 18]\n",
    "print(ages_voting)      # ➜ [20, 34, 18, 21, 19]\n"
   ]
  },
  {
   "cell_type": "code",
   "execution_count": null,
   "metadata": {},
   "outputs": [],
   "source": [
    "import pandas as pd\n",
    "df = pd.read_csv(\"Spotify_2024_Global_Streaming_Data.csv\")\n",
    "big_hits = (df.dropna()\n",
    "              .query(\"`Total Streams (Millions)` > 10\")\n",
    "              .sort_values(by=\"Total Streams (Millions)\", ascending=False))\n",
    "\n",
    "top_streams = big_hits[\"Total Streams (Millions)\"].tolist()\n",
    "print(big_hits.head())\n"
   ]
  },
  {
   "cell_type": "markdown",
   "metadata": {},
   "source": [
    "Review Q&A\n",
    "What are Python lists and how do you manipulate them?\n",
    "Ordered, mutable sequences. Add (append, insert), remove (pop, remove), slice, sort, or rebuild with comprehensions.\n",
    "\n",
    "Real-world filter scenario?\n",
    "Spotify filtering tracks with > 10 M streams before recommending them to users.\n",
    "\n",
    "Why study algorithm efficiency?\n",
    "Large-scale filters need to be fast and memory-efficient to keep user experiences smooth and infrastructure costs low.\n",
    "\n",
    "pgsql\n",
    "Copy\n",
    "Edit\n"
   ]
  }
 ],
 "metadata": {
  "kernelspec": {
   "display_name": "Python 3",
   "language": "python",
   "name": "python3"
  },
  "language_info": {
   "codemirror_mode": {
    "name": "ipython",
    "version": 3
   },
   "file_extension": ".py",
   "mimetype": "text/x-python",
   "name": "python",
   "nbconvert_exporter": "python",
   "pygments_lexer": "ipython3",
   "version": "3.11.3"
  }
 },
 "nbformat": 4,
 "nbformat_minor": 2
}
