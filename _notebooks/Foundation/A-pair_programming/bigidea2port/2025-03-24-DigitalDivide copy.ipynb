{
 "cells": [
  {
   "cell_type": "raw",
   "metadata": {
    "vscode": {
     "languageId": "raw"
    }
   },
   "source": [
    "---\n",
    "layout: post\n",
    "title: Digital Divide homework blog\n",
    "description:  Homework 2, Digital Divide\n",
    "comments: true\n",
    "permalink: /DigitalDivide\n",
    "---"
   ]
  },
  {
   "cell_type": "markdown",
   "metadata": {},
   "source": [
    "The digital Divide\n",
    "\n",
    "Factors that contribute to the digital divide include economic gaps.\n",
    "Well-funded schools have many digital tools with coding and stem program courses. The students in wealthier areas have access to more educational opportunities.\n",
    "There could be a difference between living in a rural and an urban area. \n",
    "Impacts of the digital divide is that is impacts access to education, jobs, and healthcare\n",
    "Worsened social and economic opportunities.\n",
    "\n",
    "Popcorn Hack: Example Problem in MCQ\n",
    "Question: Which of the following actions are likely to be helpful in reducing the digital divide? Select two answers.\n",
    "Options\n",
    "A) Designing new technologies intended only for advanced users\n",
    "B) Designing new technologies to be accessible to individuals with different physical abilities\n",
    "C) Implementing government regulations restricting citizens’ access to Web content\n",
    "D) Having world governments support the construction of network infrastructure\n",
    "Reveal Answer\n",
    "**Correct Answers:** - B) Designing new technologies to be accessible to individuals with different physical abilities - D) Having world governments support the development of network infrastructure\n",
    "\n",
    "Everywhere has a digital divide even San Diego. \n"
   ]
  },
  {
   "cell_type": "markdown",
   "metadata": {},
   "source": [
    "### Popcorn Hack 1: Reducing the Digital Divide – Multiple Choice\n",
    "\n",
    "**Question:** Which two of the following actions would most likely help reduce the digital divide?\n",
    "\n",
    "- **Creating technologies only for advanced users**  \n",
    "  This would likely make the digital divide worse, since it only supports people who already have strong tech skills, leaving others behind.\n",
    "\n",
    "- **Making technology accessible for people with physical disabilities**  \n",
    "  This is an effective approach. Inclusive design helps ensure that people with various physical abilities can access and use technology.\n",
    "\n",
    "- **Government-imposed restrictions on web access**  \n",
    "  This would likely increase the divide by limiting access to important information, especially for groups already facing limited access.\n",
    "\n",
    "- **Government-funded development of internet infrastructure**  \n",
    "  This is a strong solution. Expanding infrastructure increases access to the internet in underserved regions.\n",
    "\n",
    "**Correct Answers:**\n",
    "- Designing technologies to be accessible to people with physical disabilities  \n",
    "- Supporting the development of network infrastructure\n",
    "\n",
    "**Explanation:**  \n",
    "These two actions help close the digital divide by making technology usable for more people and increasing internet access in areas that lack it.\n"
   ]
  },
  {
   "cell_type": "markdown",
   "metadata": {},
   "source": [
    "### Popcorn Hack 2: Solving the Digital Divide in Our Communities\n",
    "\n",
    "**Question:** How could you help reduce the digital divide in your community? What’s already being done, and what more can we do?\n",
    "\n",
    "To lessen the digital divide, I would focus on improving both access to technology and the education needed to use it effectively.\n",
    "I would attempt to make a nonprofit organization with funding to help aid the students without an access to the internet with computers. Not only that I would also supply videos and a room with a good internet connection to help those kids learn about what they can do to improve their technological skills.\n"
   ]
  },
  {
   "cell_type": "code",
   "execution_count": null,
   "metadata": {},
   "outputs": [],
   "source": [
    "import sys\n",
    "print(\"Python executable path:\", sys.executable)  \n",
    "\n",
    "\n",
    "try:\n",
    "    import pandas as pd\n",
    "except ModuleNotFoundError:\n",
    "    print(\"❌ 'pandas' module not found. Install it by running: pip install pandas\")\n",
    "    exit()\n",
    "\n",
    "\n",
    "try:\n",
    "    data = pd.read_csv(\"internet_users.csv\").drop(columns=[\n",
    "        'Notes', 'Year.2', 'Users (CIA)', 'Rate (ITU)', 'Year.1'\n",
    "    ])\n",
    "except FileNotFoundError:\n",
    "    print(\"❌ File 'internet_users.csv' not found. Make sure it's in the working directory.\")\n",
    "    exit()\n",
    "\n",
    "data_cleaned = data.dropna()  \n",
    "\n",
    "\n",
    "usage_rates = data_cleaned['Rate (WB)']  \n",
    "countries = data_cleaned['Location']    \n",
    "\n",
    "\n",
    "for country, rate in zip(countries, usage_rates):\n",
    "    status = \"doing great\" if rate > 70 else \"needs improvement\"\n",
    "    print(f\"{country}: {rate}% — {status}\")\n"
   ]
  }
 ],
 "metadata": {
  "kernelspec": {
   "display_name": "Python 3",
   "language": "python",
   "name": "python3"
  },
  "language_info": {
   "codemirror_mode": {
    "name": "ipython",
    "version": 3
   },
   "file_extension": ".py",
   "mimetype": "text/x-python",
   "name": "python",
   "nbconvert_exporter": "python",
   "pygments_lexer": "ipython3",
   "version": "3.11.3"
  }
 },
 "nbformat": 4,
 "nbformat_minor": 2
}
