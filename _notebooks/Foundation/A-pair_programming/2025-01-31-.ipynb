{
 "cells": [
  {
   "cell_type": "raw",
   "metadata": {
    "vscode": {
     "languageId": "raw"
    }
   },
   "source": [
    "---\n",
    "layout: post\n",
    "title: Big Idea 4 COllege Board\n",
    "description:  My understanding of Big Idea 4\n",
    "comments: true\n",
    "permalink: /bigidea\n",
    "---"
   ]
  },
  {
   "cell_type": "raw",
   "metadata": {
    "vscode": {
     "languageId": "raw"
    }
   },
   "source": [
    "To login to the deployment server on AWS EC2 you will use cockpit backdoor."
   ]
  },
  {
   "cell_type": "markdown",
   "metadata": {},
   "source": [
    "1. **Configure AWS Route 53 & Subdomain:**  \n",
    "   Log in to AWS, open Route 53, and create a DNS record for your subdomain pointing to your EC2 instance’s public IP.\n",
    "\n",
    "2. **Update Application Ports & Configurations:**  \n",
    "   Change your app’s port to 8402 in the backend, update the frontend API settings, modify Docker configuration, and adjust Nginx’s proxy settings.\n",
    "\n",
    "3. **Set Up AWS EC2:**  \n",
    "   Launch or select an EC2 instance, configure its security groups to allow port 8402 (and HTTP/HTTPS), and install Docker and Docker Compose.\n",
    "\n",
    "4. **Local Testing:**  \n",
    "   Check that port 8402 is free, update any localhost references, and run your application locally (e.g., with VS Code) to confirm it’s working.\n",
    "\n",
    "5. **Deploy on AWS EC2:**  \n",
    "   SSH into your EC2 instance, clone your repository, and use Docker Compose to build and run your containers on the server.\n",
    "\n",
    "6. **Finalize DNS & Nginx Setup:**  \n",
    "   Point your subdomain (in Route 53) to your EC2 instance and configure Nginx to forward requests to your application on port 8402.\n",
    "\n",
    "7. **Secure with SSL/TLS:**  \n",
    "   Run Certbot with Nginx to obtain an SSL certificate, update Nginx to redirect HTTP to HTTPS, and restart Nginx.\n",
    "\n",
    "8. **Manage Code Versions:**  \n",
    "   Regularly use Git to pull the latest changes, make meaningful commits, and test changes locally before deploying to EC2.\n",
    "\n",
    "9. **Update Deployment:**  \n",
    "   When changes occur, stop the current Docker containers, pull the latest code, rebuild the containers, and restart them on the EC2 instance.\n",
    "\n",
    "10. **Final Testing & Debugging:**  \n",
    "    Verify that all features (frontend, API endpoints, SSL) work as expected, and use logs to troubleshoot any issues.\n"
   ]
  },
  {
   "cell_type": "markdown",
   "metadata": {},
   "source": [
    "**Big Idea 4.1:**\n",
    "*the internet:*\n",
    "- Big computers evcolved to get smaller and smaller\n",
    "- Packet is like an envelope with data which is sent from a source to a destination.\n",
    "- Computers communicate by working together to achieve a common pupose. The netork helps computers to send and recieve data.\n",
    "- A computer network is a computing system.\n",
    "- A packet or a bit of information is chopped up into littel pieces and sent along a path. Order of sending and recieving data doesnt matter.\n",
    "- A router helps find the path two compuiters take to talk to each other.\n",
    "- Bandwith is the MAX speed at which a packet will flow.\n",
    "- Computers communicate because they can transmit data.\n",
    "- Packets are the envelope to transfer data.\n",
    "\n",
    "- Path: Sequence of connected computing devices that begind at teh sender and ands at a reciever\n",
    "- route: Process of finding a path from the sender to the reciever.\n",
    "- Computer System: A group of computing devices that work together for a common purpose\n",
    "- Copmputer Device: A physical device that has the ability to run a program. Sensors, Computers, Servers, Ipad, Iphone\n",
    "- Bandwith: Max amount of data that can be sent ion a fixed amount of time. Bits per second\n",
    "- Computer Network: A group of computer devices that are capable of sending and recieving data.\n"
   ]
  },
  {
   "cell_type": "markdown",
   "metadata": {
    "vscode": {
     "languageId": "raw"
    }
   },
   "source": [
    "**Big Idea 4.1 #2**\n",
    "- information is passed through the internet in the form of packets which hold chunks of data in them\n",
    "- Packets contain chunks of metedata and data \n",
    "- Packets can arrive to a destination not necessarily in order or not at all\n",
    "- IP, TCP, and UDP are protocols used on the internet (a set of rules that describe how data should be transfered or recieved) (the rules specify the behaviour of a system)\n",
    "- World Wide Web is a system of linked pages, programs, and files\n",
    "- HTTP is a protocol from the W W W \n",
    "- WWW uses the internet but is not the internet\n",
    "- Network access deals with hardware and uses a MAC adress ( a unique adress)\n",
    "- Computers talk by using 1s and 0s\n",
    "- The internet was designed to be scalable\n",
    "- AS( autonomous systems are large links of systems that are linked together under teh control and policies of major organizations) are Large Routers that link networks with large telecomunications connections.\n",
    "- The Transport layer has two protocols, TCP and UDP, TCP is stricter that verifies that a delivery has been made. UDP is nto as strict which acts more liek a mailbox or data. This layer primarily deals with teh sending of packages.\n",
    "- Computers get IP from Dynamic Post config Protocol.  \n",
    "- DNS (domain name service) is used to track where to send and recioeve packages on the internet.\n",
    "\n",
    "\n",
    "**Application Layer**\n",
    "- http protocol is how to ask and recieve data from web servers which uses TCP port 80 at the TRansport Layer\n",
    "- https protocol like the http with security which uses TCP port 443\n",
    "- Web Servers are programs running on machines connected to the internet. This provides clients web pages using URLs (Uniform Resource Locations)\n",
    "- DNS (Domain Name Service) are applications that translate a readable URL into an IP adress.\n",
    "- You use a DNS server evey time you ask for a web page on a browser.\n",
    "\n",
    "\n"
   ]
  },
  {
   "cell_type": "markdown",
   "metadata": {},
   "source": [
    "**Big Idea 4.2 #1 and #2**\n",
    "*Fault Tolerance:*\n",
    "- Redundancy is the inclusion of extra components that can be used to mitigate failure of a system if other components fail. \n",
    "- One way to accomplish network redundancy is by having more than one path between any two connected devices.\n",
    "- if a device or connection to the internet fails, subsequent data will be sent via the next pathway\n",
    "- there are many different paths that connect to different servers.\n",
    "- more devices connected make the network stronger because more computers are connected to each other\n",
    "- Data has more than one path from one device to another.\n",
    "- \n"
   ]
  },
  {
   "cell_type": "markdown",
   "metadata": {},
   "source": [
    "**Big Idea 4.3**\n",
    "*Parrallel and Distributive Computing:*\n",
    "- sequential computing is a computational model in which operations are performed in order one at a time\n",
    "- Parallel computing is a computational model where a program is broken into multiple smaller computing operations. Some of them are performed at the same time.\n",
    "- Distributed computing is a computational model in which multiple devices are used to runa  program (distributes out)\n",
    "- Comparing the *Efficiency* of the solutions can be done by comparing the time it taked them to perform the same task\n",
    "- A sequential solution taked as long as the sum of all of its steps\n",
    "- computer tasks are balanced on the CPU\n",
    "- A system has multiple tasks to take care of. The computer needs to handle the computer tasks it needs to complete while it operates. The computer carries out these mandatory tasks by scheduling them throughout a given time period.\n",
    "- System tasks include working with the network, software, and managing hardware.\n",
    "- A User task is a task the user chooses to execute based on what they have selected. An example is A computer game, or google docs, or youtube, etc.\n",
    "- The compuer is rying to make the user happy by scheduling tasks efficiently and balance it wihtin the CPU to give the illusion that the user is in control.\n",
    "- speedup time is measured in the time it took to cplete the task sequentially/time parallel\n",
    "- ex: Seq time=50+20+30=100ms..... Parallel time=50 ms for the longest time....... Seedup=Seq/Parallel=100/50=2ms\n",
    "\n",
    "*Sequential*\n",
    "- In sequential computing tasks are carried out one at a time. This makes tasks dependent on each other. The operation adds up each task execution time and gives out a total processing time. (Sequential is like items on a conveyor belt)\n",
    "- T=Atime+Btime+Ctime\n",
    "\n",
    "*Parallel*\n",
    "- where a program is broken up into multiple smaller operations\n",
    "- Parallel computing schedules tasks at the same time, which is usually done on the same computer.\n",
    "- Parallel computing is hardware driven\n",
    "- Paralle computing can be thought of like a team working on a project\n",
    "- A lot of data cam be processed the same way. (Single Instruction Multiple Data)\n",
    "- T= longst time taken on a given processor \n",
    "- T= sequential task plus the parallel task cxonnected to it.\n",
    "\n",
    "\n",
    "*Distributed*\n",
    "- sends out tasks from one computer to another. Multiple devices are used to run a program.\n",
    "- Ex: Google Web search, Multiplayer, Web services \n",
    "- The method allows for computers to work together to solve what cannot be solved ona  single computer because of either processing or storage needs.\n",
    "- Distributed computing needs: more than one physical ocmputer, tasks handled by each computer is very different from the other, requires a network, a mix of sequqntial and parallel execution of tasks, and can take longer based on network and awaiting responses from other computers.\n",
    "\n"
   ]
  }
 ],
 "metadata": {
  "kernelspec": {
   "display_name": "Python 3",
   "language": "python",
   "name": "python3"
  },
  "language_info": {
   "codemirror_mode": {
    "name": "ipython",
    "version": 3
   },
   "file_extension": ".py",
   "mimetype": "text/x-python",
   "name": "python",
   "nbconvert_exporter": "python",
   "pygments_lexer": "ipython3",
   "version": "3.11.3"
  }
 },
 "nbformat": 4,
 "nbformat_minor": 2
}
