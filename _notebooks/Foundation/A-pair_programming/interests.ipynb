{
 "cells": [
  {
   "cell_type": "raw",
   "metadata": {
    "vscode": {
     "languageId": "raw"
    }
   },
   "source": [
    "---\n",
    "layout: post\n",
    "title: interests\n",
    "description: Hack 1 for Hacks Tools & Equipment Play\n",
    "type: issues\n",
    "comments: true\n",
    "permalink: /interests\n",
    "---\n",
    "\n",
    "Personal interests \n",
    "Interests: Coding, Artificial Intelligence, Engineering, Designing \n",
    "Hobbies: Gym, Video Games, Swimming, badminton, learning, filmmaking, health \n",
    "Languages: English, Spanish \n",
    "\n",
    "<script src=\"https://utteranc.es/client.js\"\n",
    "        repo=\"johanmascarenhas\"\n",
    "        issue-term=\"title\"\n",
    "        label=\"blogpost-comment\"\n",
    "        theme=\"github-light\"\n",
    "        crossorigin=\"anonymous\"\n",
    "        async>\n",
    "</script>\n"
   ]
  }
 ],
 "metadata": {
  "kernelspec": {
   "display_name": "Python 3",
   "language": "python",
   "name": "python3"
  },
  "language_info": {
   "codemirror_mode": {
    "name": "ipython",
    "version": 3
   },
   "file_extension": ".py",
   "mimetype": "text/x-python",
   "name": "python",
   "nbconvert_exporter": "python",
   "pygments_lexer": "ipython3",
   "version": "3.11.3"
  }
 },
 "nbformat": 4,
 "nbformat_minor": 2
}
