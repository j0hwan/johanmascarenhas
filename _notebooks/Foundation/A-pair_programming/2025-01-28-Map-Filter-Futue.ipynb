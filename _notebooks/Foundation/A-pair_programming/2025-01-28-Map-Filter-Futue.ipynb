{
 "cells": [
  {
   "cell_type": "raw",
   "metadata": {
    "vscode": {
     "languageId": "raw"
    }
   },
   "source": [
    "---\n",
    "layout: post\n",
    "title: Map Filter Feature\n",
    "description:  My work on the Map Filter Feature\n",
    "comments: true\n",
    "permalink: /explore\n",
    "---"
   ]
  },
  {
   "cell_type": "markdown",
   "metadata": {},
   "source": [
    "**What is my Fetaure?**\n",
    "- My feature consists of an interactable map fiilter \n",
    "- the user can pick criteria based off of a perfect vacation spot \n",
    "- one criteria consists of category (historical, cultural, natural, religious, scenic, modern )\n",
    "- another criteria consists of interest tags (tags abouit the locarion ex:famous landmarks/activities)\n",
    "- They can view said vacation spot on in integrated world map\n",
    "\n",
    "**Purpose of My feature:**\n",
    "- The goal of my feature is to allow users to input more vacation spots to travel to\n",
    "- Doing so, users may share their own spots and update spot criteria (tags and categories)\n",
    "- others may hbe inclined to go to other spots with interesting tags\n",
    "- Users can click on tags to view location name and tags which interest them\n",
    "\n",
    "**Frontend work:**\n",
    "- I added a new area for users to input a new location\n",
    "- The user needs to first select the desired location on the map, and a Longitude and Latitude will pop up. I added a functionality where the longitude and latitude automatically get inputted in but can be edited by the user\n",
    "- Next they need to name the location and assign that named location a value, which is usually same as the location name\n",
    "- Finally they need to input the category, which there are 6 to to pick from and then assingn any interest tags. It can be literally anything as long as it is seperated by a comma.\n",
    "- I added a postt feature that adds this location to the map\n",
    "\n",
    "**Backend work:**\n",
    "- I have a *GET* request to retrieve all sumbitted locations\n",
    "- I have a *POST* request to post new locations and assign filters to that location\n",
    "- I gave a *DELETE* request to delete the location\n",
    "\n",
    "\n"
   ]
  },
  {
   "cell_type": "raw",
   "metadata": {},
   "source": []
  }
 ],
 "metadata": {
  "kernelspec": {
   "display_name": "Python 3",
   "language": "python",
   "name": "python3"
  },
  "language_info": {
   "codemirror_mode": {
    "name": "ipython",
    "version": 3
   },
   "file_extension": ".py",
   "mimetype": "text/x-python",
   "name": "python",
   "nbconvert_exporter": "python",
   "pygments_lexer": "ipython3",
   "version": "3.11.3"
  }
 },
 "nbformat": 4,
 "nbformat_minor": 2
}
