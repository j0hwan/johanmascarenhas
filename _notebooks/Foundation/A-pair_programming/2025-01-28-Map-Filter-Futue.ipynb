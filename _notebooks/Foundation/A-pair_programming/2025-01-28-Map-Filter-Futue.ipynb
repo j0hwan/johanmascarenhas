{
 "cells": [
  {
   "cell_type": "raw",
   "metadata": {
    "vscode": {
     "languageId": "raw"
    }
   },
   "source": [
    "---\n",
    "layout: post\n",
    "title: Map Filter Feature\n",
    "description:  My work on the Map Filter Feature\n",
    "comments: true\n",
    "permalink: /explore\n",
    "---"
   ]
  },
  {
   "cell_type": "markdown",
   "metadata": {},
   "source": [
    "**What is my Fetaure?**\n",
    "- My feature consists of an interactable map fiilter \n",
    "- the user can pick criteria based off of a perfect vacation spot \n",
    "- one criteria consists of category (historical, cultural, natural, religious, scenic, modern )\n",
    "- another criteria consists of interest tags (tags abouit the locarion ex:famous landmarks/activities)\n",
    "- They can view said vacation spot on in integrated world map\n",
    "\n",
    "**Purpose of My feature:**\n",
    "- The goal of my feature is to allow users to input more vacation spots to travel to\n",
    "- Doing so, users may share their own spots and update spot criteria (tags and categories)\n",
    "- others may hbe inclined to go to other spots with interesting tags\n",
    "- Users can click on tags to view location name and tags which interest them\n",
    "\n",
    "**Frontend work:**\n",
    "- I added a new area for users to input a new location\n",
    "- The user needs to first select the desired location on the map, and a Longitude and Latitude will pop up. I added a functionality where the longitude and latitude automatically get inputted in but can be edited by the user\n",
    "- Next they need to name the location and assign that named location a value, which is usually same as the location name\n",
    "- Finally they need to input the category, which there are 6 to to pick from and then assingn any interest tags. It can be literally anything as long as it is seperated by a comma.\n",
    "- I added a postt feature that adds this location to the map\n",
    "- *GREEN* markers are new/added locations, *BLUE* markers are default locations\n",
    "\n",
    "**Backend work:**\n",
    "- I have a *GET* request to retrieve all sumbitted locations\n",
    "- I have a *POST* request to post new locations and assign filters to that location\n",
    "- I gave a *DELETE* request to delete the location\n",
    "\n",
    "\n"
   ]
  },
  {
   "cell_type": "raw",
   "metadata": {
    "vscode": {
     "languageId": "raw"
    }
   },
   "source": [
    "**Inputs and outputs**\n",
    "On my frontend page \"explore\", users are able to input text into the name, location, and interest tag fields to single out a singular or multiple locations on a world map.  The page consists of a mini survey that enables users to type in location data which can be applied to the filters and the map. The User also has the ability to delete and update locations on the map. The delete function completely gets rid of a location and its data whereas the updatae function updates existing locations and its data. This data removal, update, and input is displayed in the frontend map and in the backend database."
   ]
  },
  {
   "cell_type": "markdown",
   "metadata": {},
   "source": [
    "Purpose of our group’s program\n",
    "Our program stores and manages exploration data for different cities. It allows users to add, update, and retrieve location details, helping them learn about or explore these places.\n",
    "\n",
    "Purpose of my individual feature(s)\n",
    "My feature focuses on creating and deleting data entries in the Explore database. This lets users easily add new locations or remove them when they are no longer needed.\n",
    "\n",
    "Input/Output requests and demo for full-stack feature\n",
    "Our front end gathers user input through a simple form (fields like name, value, position, etc.). When the user submits the form, the data is sent to our Flask API. The server responds with a JSON message confirming the action or reporting an error.\n",
    "\n",
    "Using frontend to show API request and present API response (live demo)\n",
    "When we click a button on the webpage, JavaScript fetch calls our backend endpoint (/api/explores). The response is returned as JSON. We display this JSON in the DOM by looping through the data and creating HTML elements.\n",
    "\n",
    "Using Postman to show raw API request and RESTful response (error codes and JSON)\n",
    "In Postman, we send a request with JSON in the body to /api/explores. If it succeeds, we get a 201 status and the newly created data. If we forget a required field, we get an error message and a 400 status code.\n",
    "\n",
    "Using db_init, db_restore, db_backup to show tester data creation and recovery\n",
    "We can call db_init to create the database tables. We use db_restore to reload saved data into the table. We can run db_backup to save the current data for future restoration. This helps us test and recover information easily.\n",
    "\n",
    "Lists, dictionaries, and database usage\n",
    "In Python, each row we get from the database can be seen as an object or a dictionary with keys like \"id\", \"name\", etc. When we collect multiple rows, we have a list of these dictionaries. For example, Explore.query.all() returns a list, and serialize() produces a dictionary of columns.\n",
    "\n",
    "Formatting response data (JSON) from API into the DOM\n",
    "The JSON data from the API includes fields like id, name, and position. We loop over these fields in JavaScript. Then we build HTML elements, such as table rows or list items, to show the data neatly on the webpage.\n",
    "\n",
    "Queries from the database extracting a Python list (rows)\n",
    "We use SQLAlchemy, which is a third-party library. When we run Explore.query.all(), SQLAlchemy returns a list of Explore objects. This list is then converted to JSON dictionaries by our model’s serialize() method.\n",
    "\n",
    "Methods in the class to work with columns (create, read, update, delete)\n",
    "In the Explore class, we have create() to insert new data, read() (or serialize()) to output columns, update() to change fields, and delete() to remove a row. Each method uses database session commands like db.session.add() or db.session.delete().\n",
    "\n",
    "Algorithmic code block handling a request\n",
    "In our ExploreAPI class, each HTTP method (get, post, put, delete) has a code block. It starts by reading the request data, then uses the Explore model to process the data, and finally returns a JSON response.\n",
    "\n",
    "API class (code block) for get, post, put, and delete\n",
    "ExploreAPI extends Resource and defines all CRUD methods:\n",
    "\n",
    "GET fetches all explores.\n",
    "POST creates a new explore.\n",
    "PUT updates an existing explore by id.\n",
    "DELETE removes an explore by id.\n",
    "Method/procedure with sequencing, selection, and iteration\n",
    "The post method, for example, has sequencing (reading request data, creating an object, then saving to DB), selection (checking if fields are missing), and iteration can happen if we loop over fields to assign them to the model.\n",
    "\n",
    "Parameters (request body) and return type (jsonify)\n",
    "Our methods take JSON data from the request body. For example, name and value are parameters for a new record. After processing, we return a Python dictionary that Flask automatically turns into JSON.\n",
    "\n",
    "Call to Algorithm request: code block to make a request\n",
    "A front-end fetch('/api/explores', { method: 'POST', body: JSON... }) is our call to the back-end “algorithm.” It includes method, headers, and the JSON body as parameters.\n",
    "\n",
    "Call/request to the method (fetch to endpoint) and handling data\n",
    "After fetch completes, we check response.ok. If true, we parse response.json(), then update the DOM with the new data. If not, we show an error message.\n",
    "\n",
    "Return/response from method with Algorithm (fetch) and how data is handled\n",
    "When the back end returns JSON, we either display success (like “Created item with ID 10”) or show the error details (like “Missing 'name' in request”).\n",
    "\n",
    "Changing data or method triggers different responses\n",
    "If we send a valid POST, we get 201 and a success message. If we omit a required field or send DELETE without an id, we get a 400 error response. This shows normal vs. error conditions."
   ]
  }
 ],
 "metadata": {
  "kernelspec": {
   "display_name": "Python 3",
   "language": "python",
   "name": "python3"
  },
  "language_info": {
   "codemirror_mode": {
    "name": "ipython",
    "version": 3
   },
   "file_extension": ".py",
   "mimetype": "text/x-python",
   "name": "python",
   "nbconvert_exporter": "python",
   "pygments_lexer": "ipython3",
   "version": "3.11.3"
  }
 },
 "nbformat": 4,
 "nbformat_minor": 2
}
