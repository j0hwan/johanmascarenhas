{
 "cells": [
  {
   "cell_type": "raw",
   "metadata": {
    "vscode": {
     "languageId": "raw"
    }
   },
   "source": [
    "---\n",
    "layout: post\n",
    "title: Checkpoint_May\n",
    "description: Checkpointmay\n",
    "type: issues\n",
    "comments: true\n",
    "permalink: /checkpointmay\n",
    "---"
   ]
  },
  {
   "cell_type": "markdown",
   "metadata": {},
   "source": [
    "---\n",
    "layout: post\n",
    "title:  \"Homework Index\"\n",
    "date:   2025-05-22\n",
    "categories: [Homework]\n",
    "tags: [APCSP, DevOps, Python]\n",
    "excerpt: \"Quick index of all homework write-ups.\"\n",
    "---\n",
    "\n",
    "Below is a numbered list of every homework assignment published so far.  \n",
    "Click any link to jump straight to the write-up.\n",
    "\n",
    "1. **Homework&nbsp;1** – [Homework 1](https://j0hwan.github.io/johanmascarenhas/Homework1)  \n",
    "2. **Homework&nbsp;2** – [Digital&nbsp;Divide](https://j0hwan.github.io/johanmascarenhas/DigitalDivide)  \n",
    "3. **Homework&nbsp;3** – [Computing Bias](https://j0hwan.github.io/johanmascarenhas/computingbias)  \n",
    "4. **Homework&nbsp;4** – [Crowdsourcing](https://j0hwan.github.io/johanmascarenhas/crowdsourcing)  \n",
    "5. **Homework&nbsp;5** – [Legal&nbsp;and&nbsp;Ethical Concerns](https://j0hwan.github.io/johanmascarenhas/legalandethical)  \n",
    "6. **Homework&nbsp;6** – [Privacy&nbsp;Risk](https://j0hwan.github.io/johanmascarenhas/privacyrisk)  \n",
    "7. **Homework&nbsp;7** – [Styling](https://j0hwan.github.io/johanmascarenhas/stylingg)  \n",
    "8. **Homework&nbsp;8** – [Binary Search](https://j0hwan.github.io/johanmascarenhas/binarysearch)  \n",
    "9. **Homework&nbsp;9** – [Lists](https://j0hwan.github.io/johanmascarenhas/listss)  \n",
    "10. **Homework 10** – [Simulation & Algorithm](https://j0hwan.github.io/johanmascarenhas/simulationandalgorithm)  \n",
    "11. **Homework 11** – [Big-O Analysis](https://j0hwan.github.io/johanmascarenhas/Bigo)  \n",
    "12. **Homework 12** – [Decide Algorithm](https://j0hwan.github.io/johanmascarenhas/Decide)  \n",
    "13. **Homework 13** – [Binary Numbers](https://j0hwan.github.io/johanmascarenhas/Binary)  \n",
    "14. **Homework 14** – [Logic Gates](https://j0hwan.github.io/johanmascarenhas/logicgate)  \n",
    "15. **Homework 15** – [Base-64 Encoding](https://j0hwan.github.io/johanmascarenhas/base64)\n",
    "\n",
    "*Last updated: {{ page.date | date: \"%B %-d, %Y\" }}*\n",
    "------------------------------------------------------------------------"
   ]
  },
  {
   "cell_type": "markdown",
   "metadata": {},
   "source": [
    "Contributions:\n",
    "**Created both Backend files (both analyze 1+ csv files):**\n",
    "- ML for Hospital recommender webpage *(model+api file)*\n",
    " scoring system to determine best hospital to visit based on health conditon.\n",
    " \n",
    "- ML for Hospital video optimnzer webpage *(model+api file)*\n",
    "keyword prediction of title, length, description, time, and tag.\n",
    "Also uses gemini api to suggest user video improvement tips\n",
    "\n",
    "**Created both frontend files:**\n",
    "- Hospital recommender webpage (helps a user find a hospital based on certain criteria)\n",
    "includes selection of landmark locations or user locatin *(auto/manual)*\n",
    "\n",
    "- Hospital video optimnzer *(optimizes youtube videos for hospitals)*\n",
    "has tips on video improvement as well as prediction of how a video is going to do when provided details on title/ criteria"
   ]
  }
 ],
 "metadata": {
  "kernelspec": {
   "display_name": "Python 3",
   "language": "python",
   "name": "python3"
  },
  "language_info": {
   "codemirror_mode": {
    "name": "ipython",
    "version": 3
   },
   "file_extension": ".py",
   "mimetype": "text/x-python",
   "name": "python",
   "nbconvert_exporter": "python",
   "pygments_lexer": "ipython3",
   "version": "3.11.3"
  }
 },
 "nbformat": 4,
 "nbformat_minor": 2
}
