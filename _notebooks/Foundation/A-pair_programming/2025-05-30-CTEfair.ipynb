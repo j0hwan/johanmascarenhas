{
 "cells": [
  {
   "cell_type": "raw",
   "metadata": {
    "vscode": {
     "languageId": "raw"
    }
   },
   "source": [
    "---\n",
    "layout: post\n",
    "title: CTE FAIR\n",
    "description: I am a CTE fair attendee and this is what I did\n",
    "comments: true\n",
    "permalink: /cte\n",
    "---"
   ]
  },
  {
   "cell_type": "raw",
   "metadata": {
    "vscode": {
     "languageId": "raw"
    }
   },
   "source": [
    "<li><img src=\"images/g1.jpg\" alt=\"pic1\"></li>"
   ]
  },
  {
   "cell_type": "raw",
   "metadata": {
    "vscode": {
     "languageId": "raw"
    }
   },
   "source": [
    "<li><img src=\"images/g2.jpg\" alt=\"pic2\"></li>"
   ]
  },
  {
   "cell_type": "raw",
   "metadata": {
    "vscode": {
     "languageId": "raw"
    }
   },
   "source": [
    "<li><img src=\"images/g3.jpg\" alt=\"pic3\"></li>"
   ]
  },
  {
   "cell_type": "raw",
   "metadata": {
    "vscode": {
     "languageId": "raw"
    }
   },
   "source": [
    "<li><img src=\"images/g4.jpg\" alt=\"pic4\"></li>"
   ]
  },
  {
   "cell_type": "markdown",
   "metadata": {},
   "source": [
    "I visited the Del Norte Optix team with Gavin Copley \n",
    "\n",
    "- I then attended the mini presnetation in the center of the HP buildings.\n",
    "- I visited our CompSci booth with Gavin and spoke to Aidan Lau.\n",
    "- I did the bathroom pass activity by logging into nighthawks coding society and scanning my student vue barcode and signed in and out.\n",
    "- I then observed some more projects around the area\n",
    "- I enjoyed this experience becasue I got to see what other teams and peopel were up to. I also met one of my friends from my old elementary school working on a balancing/physics software."
   ]
  }
 ],
 "metadata": {
  "kernelspec": {
   "display_name": "Python 3",
   "language": "python",
   "name": "python3"
  },
  "language_info": {
   "codemirror_mode": {
    "name": "ipython",
    "version": 3
   },
   "file_extension": ".py",
   "mimetype": "text/x-python",
   "name": "python",
   "nbconvert_exporter": "python",
   "pygments_lexer": "ipython3",
   "version": "3.11.3"
  }
 },
 "nbformat": 4,
 "nbformat_minor": 2
}
