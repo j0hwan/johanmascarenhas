{
 "cells": [
  {
   "cell_type": "raw",
   "metadata": {
    "vscode": {
     "languageId": "raw"
    }
   },
   "source": [
    "---\n",
    "layout: post\n",
    "title: NATM June 2023\n",
    "description: How I showcased projects for N@TM\n",
    "type: issues\n",
    "comments: true\n",
    "permalink: /nightatthemuseumjune\n",
    "---"
   ]
  },
  {
   "cell_type": "markdown",
   "metadata": {},
   "source": [
    "During the Night At the mus\n",
    "\n",
    "# Night at the Museum Reflection\n",
    "<li><img src=\"images/IMG_0109.jpeg\" alt=\"0109\"></li>\n",
    "During the **Night at the Museum** event, our group showcased our **MediPulse** project  \n",
    "(<https://open-coding-society.github.io/MediPulse/>) to students, parents, and other visitors. We also made V-Cards to showcase to the visitors\n",
    "<li><img src=\"images/IMG_0110.jpeg\" alt=\"0110\"></li>\n",
    "\n",
    "---\n",
    "\n",
    "## Event Details\n",
    "* **Group time slot:** **7 PM**  \n",
    "* We set up our computers at a table and **hit the ground running**.\n",
    "* It was nice how **our whole group showed up** and genuinely cared about displaying our project to a crowd of people.\n",
    "<li><img src=\"images/IMG_0108.jpeg\" alt=\"0108\"></li>\n",
    "---\n",
    "\n",
    "<li><img src=\"images/NATMMM.jpg\" alt=\"NATM\"></li>\n",
    "\n",
    "## Audience Engagement\n",
    "* There were **many individuals** who were interested in our project and what our solutions had to offer.  \n",
    "* We asked viewers to fill out a **Google Form** to rate our project and give feedback:  \n",
    "  <https://docs.google.com/forms/d/e/1FAIpQLSecnM3RDtscfq2zqbivWm8bLfuWSzsVHsMWH-W4c6xgyCDFjA/viewform?usp=header>\n",
    "\n",
    "---\n",
    "\n",
    "## Extra Credit\n",
    "Furthermore, I attempted the extra-credit opportunity to make a comment on the **N@™** post on LinkedIn.  \n",
    "* I made a **diligent and insightful comment** worth **0.2 extra-credit points**.  \n",
    "* An adult who viewed my project **responded** to my comment.\n",
    "\n",
    "### Proof of Extra Credit\n",
    "<https://docs.google.com/document/d/17Q5VB323WxlDLIMGcXRc-VN8Bw49LInG_rLkDLkDZwY/edit?tab=t.0>\n"
   ]
  }
 ],
 "metadata": {
  "kernelspec": {
   "display_name": "Python 3",
   "language": "python",
   "name": "python3"
  },
  "language_info": {
   "codemirror_mode": {
    "name": "ipython",
    "version": 3
   },
   "file_extension": ".py",
   "mimetype": "text/x-python",
   "name": "python",
   "nbconvert_exporter": "python",
   "pygments_lexer": "ipython3",
   "version": "3.11.3"
  }
 },
 "nbformat": 4,
 "nbformat_minor": 2
}
