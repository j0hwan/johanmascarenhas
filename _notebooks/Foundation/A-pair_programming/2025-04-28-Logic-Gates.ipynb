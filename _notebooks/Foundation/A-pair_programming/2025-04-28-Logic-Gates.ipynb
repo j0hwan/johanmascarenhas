{
 "cells": [
  {
   "cell_type": "raw",
   "metadata": {
    "vscode": {
     "languageId": "raw"
    }
   },
   "source": [
    "---\n",
    "layout: post\n",
    "title: Logic Gates\n",
    "comments: true\n",
    "permalink: /logicgate\n",
    "---"
   ]
  },
  {
   "cell_type": "markdown",
   "metadata": {},
   "source": [
    "# What are Logic Gates?\n",
    "\n",
    "Logic gates are electronic devices that perform Boolean operations.  \n",
    "They receive one or more binary inputs (0 or 1) and produce a single binary output.  \n",
    "These gates form the foundation of all digital systems, including computers, mobile devices, and other technologies.\n",
    "\n",
    "\n",
    "# Popcorn Hack\n",
    "**Question:**  \n",
    "What are methods of real-world purpose that using logic gates can implement?  \n",
    "**Answer:**  \n",
    "Logic gates are used in real-world systems like:\n",
    "- **Authorization systems:** (AND gate) requiring keycard **AND** PIN to allow access ensures high security.\n",
    "- **Automatic doors:** (OR gate) activating if motion sensor **OR** button press detects a user, improving accessibility.\n",
    "- **Thermostats:** (NOT gate) turning systems off when reaching a temperature limit prevents overheating.\n",
    "- **Self-driving cars:** (NAND/NOR gates) combining multiple conditions like obstacle presence and speed for safe driving decisions.\n",
    "- **Memory Checking:** (XOR gate) detecting changes in stored data to prevent corruption.\n",
    "\n",
    "These impacts make systems smarter, safer, and more reliable.\n",
    "\n",
    "---\n",
    "\n",
    "# Popcorn Hack 2\n",
    "**Question:**  \n",
    "A digital circuit receives three binary inputs: X, Y, and Z. The circuit outputs 1 if and only if X AND Y are both 1, OR Z is 1.\n",
    "\n",
    "**Answer:**  \n",
    " Correct expression:  \n",
    "**A. (X AND Y) OR Z**\n",
    "\n",
    "---\n",
    "\n",
    "# Homework Hack: Authorization System\n",
    "\n",
    "**Task:**  \n",
    "Expand the secure entry system to also require **voice authorization**.\n"
   ]
  },
  {
   "cell_type": "code",
   "execution_count": null,
   "metadata": {},
   "outputs": [],
   "source": [
    "def secure_entry_system(keycard, pin):\n",
    "    def AND(a, b):\n",
    "        return a & b  # AND logic\n",
    "    return AND(keycard, pin)\n",
    "\n",
    "# Test cases\n",
    "print(secure_entry_system(1, 1))  # Expected Output: 1 (Access Granted)\n",
    "print(secure_entry_system(0, 1))  # Expected Output: 0 (Access Denied)\n"
   ]
  }
 ],
 "metadata": {
  "kernelspec": {
   "display_name": "Python 3",
   "language": "python",
   "name": "python3"
  },
  "language_info": {
   "codemirror_mode": {
    "name": "ipython",
    "version": 3
   },
   "file_extension": ".py",
   "mimetype": "text/x-python",
   "name": "python",
   "nbconvert_exporter": "python",
   "pygments_lexer": "ipython3",
   "version": "3.11.3"
  }
 },
 "nbformat": 4,
 "nbformat_minor": 2
}
