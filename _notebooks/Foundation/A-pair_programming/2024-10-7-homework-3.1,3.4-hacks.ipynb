{
 "cells": [
  {
   "cell_type": "raw",
   "metadata": {
    "vscode": {
     "languageId": "raw"
    }
   },
   "source": [
    "---\n",
    "layout: post\n",
    "title: Pair Showcase\n",
    "description: Anytime in Sprint 1 is time to show accomplishments to teacher. The last week of the Spring there will be a formal live review meeting.\n",
    "categories: [Collaboration]\n",
    "courses: { csse: {week: 3}, csp: {week: 3}, csa: {week: 2} }\n",
    "menu: nav/pair_programming.html\n",
    "permalink: /pair/showcase\n",
    "type: collab\n",
    "comments: true\n",
    "---"
   ]
  },
  {
   "cell_type": "code",
   "execution_count": 2,
   "metadata": {},
   "outputs": [
    {
     "name": "stdout",
     "output_type": "stream",
     "text": [
      "a = 5\n",
      "b = 10\n"
     ]
    }
   ],
   "source": [
    "# Step 1: Initialize variables\n",
    "a = 5\n",
    "b = 10\n",
    "\n",
    "# Step 2: Swap values without using a temporary variable\n",
    "# Your code here\n",
    "\n",
    "# Step 3: Print the swapped values\n",
    "print(\"a =\", a)\n",
    "print(\"b =\", b)"
   ]
  },
  {
   "cell_type": "code",
   "execution_count": 2,
   "metadata": {},
   "outputs": [
    {
     "ename": "SyntaxError",
     "evalue": "invalid syntax (2115400006.py, line 1)",
     "output_type": "error",
     "traceback": [
      "\u001b[1;36m  Cell \u001b[1;32mIn[2], line 1\u001b[1;36m\u001b[0m\n\u001b[1;33m    // Variables for first product\u001b[0m\n\u001b[1;37m    ^\u001b[0m\n\u001b[1;31mSyntaxError\u001b[0m\u001b[1;31m:\u001b[0m invalid syntax\n"
     ]
    }
   ],
   "source": [
    "// Variables for first product\n",
    "let productName1 = \"Laptop\";\n",
    "let productPrice1 = 1200;\n",
    "let productStock1 = 10;\n",
    "\n",
    "// Variables for second product\n",
    "let productName2 = \"Smartphone\";\n",
    "let productPrice2 = 800;\n",
    "let productStock2 = 25;\n",
    "\n",
    "// Output messages for each product\n",
    "console.log(`The store has ${productStock1} units of ${productName1}s priced at $${productPrice1} each.`);\n",
    "console.log(`The store has ${productStock2} units of ${productName2}s priced at $${productPrice2} each.`);"
   ]
  },
  {
   "cell_type": "code",
   "execution_count": 6,
   "metadata": {},
   "outputs": [
    {
     "ename": "SyntaxError",
     "evalue": "invalid syntax (592141510.py, line 1)",
     "output_type": "error",
     "traceback": [
      "\u001b[1;36m  Cell \u001b[1;32mIn[6], line 1\u001b[1;36m\u001b[0m\n\u001b[1;33m    // The string containing the list of countries\u001b[0m\n\u001b[1;37m    ^\u001b[0m\n\u001b[1;31mSyntaxError\u001b[0m\u001b[1;31m:\u001b[0m invalid syntax\n"
     ]
    }
   ],
   "source": [
    "// The string containing the list of countries\n",
    "let countriesString = \"Algeria, Angola, Benin, Botswana, Burkina Faso, Burundi, Cabo Verde, Cameroon, Central African Republic, Chad, Comoros, Congo (Congo-Brazzaville), Cote d’Ivoire, Djibouti, DR Congo (Congo-Kinshasa), Egypt, Equatorial Guinea, Eritrea, Eswatini, Ethiopia, Gabon, Gambia, Ghana, Guinea, Guinea-Bissau, Kenya, Lesotho, Liberia, Libya, Madagascar, Malawi, Mali, Mauritania, Mauritius, Morocco, Mozambique, Namibia, Niger, Nigeria, Rwanda, Sao Tome and Principe, Senegal, Seychelles, Sierra Leone, Somalia, South Africa, South Sudan, Sudan, Tanzania, Togo, Tunisia, Uganda, Zambia, Zimbabwe\";\n",
    "\n",
    "// Use the split() method to convert the string into an array\n",
    "let countriesArray = countriesString.split(\", \");\n",
    "\n",
    "// Output the array to the console\n",
    "console.log(countriesArray);"
   ]
  },
  {
   "cell_type": "code",
   "execution_count": null,
   "metadata": {},
   "outputs": [],
   "source": [
    "def count_vowels(input_string):\n",
    "    # Define a set of vowels\n",
    "    vowels = \"aeiouAEIOU\"\n",
    "    \n",
    "    # Initialize a counter for vowels\n",
    "    vowel_count = 0\n",
    "    \n",
    "    # Loop through each character in the string\n",
    "    for char in input_string:\n",
    "        if char in vowels:\n",
    "            vowel_count += 1\n",
    "    \n",
    "    return vowel_count\n",
    "\n",
    "# Example usage\n",
    "user_input = input(\"Enter a string: \")\n",
    "vowel_count = count_vowels(user_input)\n",
    "print(f\"The number of vowels in the given string is: {vowel_count}\")"
   ]
  }
 ],
 "metadata": {
  "kernelspec": {
   "display_name": "Python 3",
   "language": "python",
   "name": "python3"
  },
  "language_info": {
   "codemirror_mode": {
    "name": "ipython",
    "version": 3
   },
   "file_extension": ".py",
   "mimetype": "text/x-python",
   "name": "python",
   "nbconvert_exporter": "python",
   "pygments_lexer": "ipython3",
   "version": "3.11.3"
  },
  "orig_nbformat": 4
 },
 "nbformat": 4,
 "nbformat_minor": 2
}
