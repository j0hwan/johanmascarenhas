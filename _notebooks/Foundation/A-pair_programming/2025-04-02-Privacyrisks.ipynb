{
 "cells": [
  {
   "cell_type": "raw",
   "metadata": {
    "vscode": {
     "languageId": "raw"
    }
   },
   "source": [
    "---\n",
    "layout: post\n",
    "title: Privacy RisksPrivacy risks lesson w/ homeworks\n",
    "comments: true\n",
    "permalink: /privacyrisk\n",
    "---"
   ]
  },
  {
   "cell_type": "markdown",
   "metadata": {},
   "source": [
    "Personal data could be stolen many ways over the internet.\n",
    "Prevention by encryption, authentication methods, data minimizaition, update security regularly, have unique passwords, follow laws like GDDPR\n",
    "\n",
    "Popcorn Hack #1: fingerprint could be a PII (personal) because it is unique to the person and no other person in the world could have the same fingerprint.\n",
    "Anything could be PII because it could be the information that could distinguish you from someone else.\n",
    "\n",
    "MFA is important\n",
    "\n",
    "Popcorn hack #2\n",
    "A username required to log in is not an example of a multifactor authentication and A password used to log into an email account. (D and A)\n",
    "\n",
    "Public key for encryption and private key for decryption\n",
    "\n",
    "Popcorn Hack #3: symmetric encryption is where one key is used to encrypt and decrypt data. B because Finn and Gwen have the same jey where they can write a secret code and they can use the same key to decode it.\n",
    "\n",
    "Certificate authorities \n",
    "Certbot is a certificate that makes the website secure\n",
    "Antivirus removes malicious porgrams from computer. Can detect threats.\n",
    "\n",
    "Keylogging records every keystroke on a website. Can steal info that you dont want other people to have.\n",
    "\n",
    "Popcorn hack #4: This makes it a secure password because it is hard to guess by hackers. And even if someone is able to see the password for a split second, like someone behind you when you input the password, they wouldnt even know where to start.\n"
   ]
  }
 ],
 "metadata": {
  "kernelspec": {
   "display_name": "Python 3",
   "language": "python",
   "name": "python3"
  },
  "language_info": {
   "codemirror_mode": {
    "name": "ipython",
    "version": 3
   },
   "file_extension": ".py",
   "mimetype": "text/x-python",
   "name": "python",
   "nbconvert_exporter": "python",
   "pygments_lexer": "ipython3",
   "version": "3.11.3"
  }
 },
 "nbformat": 4,
 "nbformat_minor": 2
}
