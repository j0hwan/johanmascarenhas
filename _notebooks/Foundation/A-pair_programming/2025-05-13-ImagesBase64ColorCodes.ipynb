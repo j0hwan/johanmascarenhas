{
 "cells": [
  {
   "cell_type": "raw",
   "metadata": {
    "vscode": {
     "languageId": "raw"
    }
   },
   "source": [
    "---\n",
    "layout: post\n",
    "title: Images, Base64, Color Codes w/ homeworks\n",
    "comments: true\n",
    "permalink: /base64\n",
    "---"
   ]
  },
  {
   "cell_type": "raw",
   "metadata": {
    "vscode": {
     "languageId": "raw"
    }
   },
   "source": [
    "# Popcorn Hacks\n",
    "\n",
    "### Digital Images\n",
    "**Q:** Which format would you use for an image with a transparent background that must stay sharp on any screen?  \n",
    "**A:** **SVG** – vector graphics scale without losing clarity and support transparency.\n",
    "\n",
    "### Base64\n",
    "**Q:** Name one downside of Base64 in real-world use.  \n",
    "**A:** It enlarges data by about 33 percent, increasing bandwidth and memory costs.\n",
    "\n",
    "---\n",
    "\n",
    "# Homework Hack\n",
    "\n",
    "1. **What is a hex color code? Give examples.**  \n",
    "   A six-digit hexadecimal value representing red, green, and blue intensities.  \n",
    "   Examples: `#FF0000` (red), `#00FF00` (green), `#0000FF` (blue).\n",
    "\n",
    "2. **What is Base64 and how is it used with images?**  \n",
    "   Base64 encodes binary image data as ASCII text so it can be embedded directly in HTML, CSS, or JSON.\n",
    "\n",
    "3. **Why might you use Base64 instead of a regular image file?**  \n",
    "   - Combines small assets with the page to avoid extra HTTP requests.  \n",
    "   - Works in text-only channels such as email.  \n",
    "   - Simplifies bundling single-file apps or demos.\n",
    "\n",
    "4. **Insert an image in a Jupyter notebook and explain how it is stored/displayed.**  \n",
    "   ```python\n",
    "   from IPython.display import Image\n",
    "   Image(filename=\"picture.png\")\n"
   ]
  }
 ],
 "metadata": {
  "kernelspec": {
   "display_name": "Python 3",
   "language": "python",
   "name": "python3"
  },
  "language_info": {
   "codemirror_mode": {
    "name": "ipython",
    "version": 3
   },
   "file_extension": ".py",
   "mimetype": "text/x-python",
   "name": "python",
   "nbconvert_exporter": "python",
   "pygments_lexer": "ipython3",
   "version": "3.11.9"
  },
  "orig_nbformat": 4
 },
 "nbformat": 4,
 "nbformat_minor": 2
}
