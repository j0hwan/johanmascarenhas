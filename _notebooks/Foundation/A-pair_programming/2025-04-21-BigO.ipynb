{
 "cells": [
  {
   "cell_type": "raw",
   "metadata": {
    "vscode": {
     "languageId": "raw"
    }
   },
   "source": [
    "---\n",
    "layout: post\n",
    "title: Privacy RisksPrivacy risks lesson w/ homeworks\n",
    "comments: true\n",
    "permalink: /privacyrisk\n",
    "---"
   ]
  },
  {
   "cell_type": "markdown",
   "metadata": {},
   "source": [
    "Common Big O Complexities\n",
    "Notation\tComplexity Class\tDescription\n",
    "O(1)\tConstant Time\tExecution time is the same regardless of input size.\n",
    "O(log n)\tLogarithmic Time\tExecution time increases logarithmically with input size.\n",
    "O(n)\tLinear Time\tExecution time grows proportionally to input size.\n",
    "O(n log n)\tLinearithmic Time\tCommon in efficient sorting algorithms like Merge Sort and Quick Sort.\n",
    "O(n²)\tQuadratic Time\tExecution time grows quadratically with input size.\n",
    "O(2ⁿ)\tExponential Time\tExecution time doubles with each additional element.\n",
    "O(n!)\tFactorial Time\tExecution time grows factorially, very inefficient for large inputs.\n",
    "\n"
   ]
  },
  {
   "cell_type": "markdown",
   "metadata": {},
   "source": [
    "**Popcorn hack #1**"
   ]
  },
  {
   "cell_type": "code",
   "execution_count": 1,
   "metadata": {},
   "outputs": [
    {
     "name": "stdout",
     "output_type": "stream",
     "text": [
      "Third item (O(1)): 3\n",
      "All items (O(n)):\n",
      "1\n",
      "2\n",
      "3\n",
      "4\n",
      "5\n"
     ]
    }
   ],
   "source": [
    "arr = [1, 2, 3, 4, 5]\n",
    "\n",
    "# Print the third item (index 2) - O(1)\n",
    "print(\"Third item (O(1)):\", arr[2])\n",
    "\n",
    "# Print all items - O(n)\n",
    "print(\"All items (O(n)):\")\n",
    "for item in arr:\n",
    "    print(item)"
   ]
  },
  {
   "cell_type": "markdown",
   "metadata": {},
   "source": [
    "**Popcorn hack #2**"
   ]
  },
  {
   "cell_type": "code",
   "execution_count": 2,
   "metadata": {},
   "outputs": [
    {
     "name": "stdout",
     "output_type": "stream",
     "text": [
      "(1, 2)\n",
      "(1, 3)\n",
      "(2, 3)\n"
     ]
    }
   ],
   "source": [
    "def print_unique_pairs(arr):\n",
    "    for i in range(len(arr)):\n",
    "        for j in range(i + 1, len(arr)):\n",
    "            print(f\"({arr[i]}, {arr[j]})\")\n",
    "\n",
    "# Test\n",
    "arr = [1, 2, 3]\n",
    "print_unique_pairs(arr)\n"
   ]
  },
  {
   "cell_type": "markdown",
   "metadata": {},
   "source": [
    "Even though the inner loop starts from i + 1 to avoid duplicates, it's  a nested loop, and in the worst case, the number of pairings grows with the square of the number of items. So the time complexity is quadratic (O(n²))."
   ]
  },
  {
   "cell_type": "markdown",
   "metadata": {},
   "source": [
    "**Popcorn hack #3**"
   ]
  },
  {
   "cell_type": "markdown",
   "metadata": {},
   "source": [
    "Which of these is inefficient for large inputs?\n",
    " b--- Factorial Time\n",
    "Explanation: Factorial time (O(n!)) grows extremely fast as input increases, making it very inefficient for large datasets.\n",
    "\n",
    "Which of these can be represented by a nested loop?\n",
    " c--- Quadratic Time\n",
    "Explanation: Nested loops over the same input (like double for loops) usually result in O(n²), which is quadratic time."
   ]
  },
  {
   "cell_type": "markdown",
   "metadata": {},
   "source": [
    "**Homework hack**\n"
   ]
  },
  {
   "cell_type": "code",
   "execution_count": 3,
   "metadata": {},
   "outputs": [
    {
     "name": "stdout",
     "output_type": "stream",
     "text": [
      "Constant time result: 5\n",
      "\n",
      "Linear time result:\n",
      "5\n",
      "10\n",
      "15\n",
      "20\n",
      "25\n",
      "\n",
      "Quadratic time result:\n",
      "(5, 5)\n",
      "(5, 10)\n",
      "(5, 15)\n",
      "(5, 20)\n",
      "(5, 25)\n",
      "(10, 5)\n",
      "(10, 10)\n",
      "(10, 15)\n",
      "(10, 20)\n",
      "(10, 25)\n",
      "(15, 5)\n",
      "(15, 10)\n",
      "(15, 15)\n",
      "(15, 20)\n",
      "(15, 25)\n",
      "(20, 5)\n",
      "(20, 10)\n",
      "(20, 15)\n",
      "(20, 20)\n",
      "(20, 25)\n",
      "(25, 5)\n",
      "(25, 10)\n",
      "(25, 15)\n",
      "(25, 20)\n",
      "(25, 25)\n"
     ]
    }
   ],
   "source": [
    "def time_complexity_demo(arr, complexity):\n",
    "    if complexity == \"constant\":\n",
    "        # O(1) - Return the first element\n",
    "        return arr[0]\n",
    "    \n",
    "    elif complexity == \"linear\":\n",
    "        # O(n) - Print each element\n",
    "        for item in arr:\n",
    "            print(item)\n",
    "    \n",
    "    elif complexity == \"quadratic\":\n",
    "        # O(n^2) - Print all pairs\n",
    "        for i in arr:\n",
    "            for j in arr:\n",
    "                print(f\"({i}, {j})\")\n",
    "    \n",
    "    else:\n",
    "        print(\"Unsupported complexity type.\")\n",
    "\n",
    "# Example usage:\n",
    "arr = [5, 10, 15, 20, 25]\n",
    "print(\"Constant time result:\", time_complexity_demo(arr, \"constant\"))\n",
    "print(\"\\nLinear time result:\")\n",
    "time_complexity_demo(arr, \"linear\")\n",
    "print(\"\\nQuadratic time result:\")\n",
    "time_complexity_demo(arr, \"quadratic\")\n"
   ]
  }
 ],
 "metadata": {
  "kernelspec": {
   "display_name": "venv",
   "language": "python",
   "name": "python3"
  },
  "language_info": {
   "codemirror_mode": {
    "name": "ipython",
    "version": 3
   },
   "file_extension": ".py",
   "mimetype": "text/x-python",
   "name": "python",
   "nbconvert_exporter": "python",
   "pygments_lexer": "ipython3",
   "version": "3.12.3"
  }
 },
 "nbformat": 4,
 "nbformat_minor": 2
}
