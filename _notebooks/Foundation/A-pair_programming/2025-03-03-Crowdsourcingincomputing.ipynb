{
 "cells": [
  {
   "cell_type": "raw",
   "metadata": {
    "vscode": {
     "languageId": "raw"
    }
   },
   "source": [
    "---\n",
    "layout: post\n",
    "title: Crowdsourcing \n",
    "description:  Crodsourcing w/ homeworks\n",
    "comments: true\n",
    "permalink: /crowdsourcing\n",
    "---"
   ]
  },
  {
   "cell_type": "markdown",
   "metadata": {},
   "source": [
    "10/10 mango mango mango mango introduction"
   ]
  },
  {
   "cell_type": "markdown",
   "metadata": {},
   "source": [
    "**crowdsourcing is a method of gathering contributions from a large group of people.\n",
    "breaks tasks into smaller pieces and distrubutes it to a crowd.**\n",
    "\n",
    "*Examples:*\n",
    "Spotify playlists\n",
    "wikipedia blogs\n",
    "Foldit (scientists were unble to find a cure to HIV and solved it using crowdsourcing w/ gamers)\n",
    "\n",
    "companies can use info from comsuemrs/users t imporve.\n",
    "Crowd Voting: ask consumers to vote on a product\n",
    "Crowd Funding: A charity for one cuse\n",
    "\n",
    "PPHACK #1 talk\n",
    "PPHACK #2 talk\n",
    "\n",
    "MCQ practice: C crowdsourcing involves obtaining input form a large group\n",
    "\n",
    "Homework Hack #3: The mending matters survey uses crowdsourcing because it takes information from the students at the schoool of del norte and uses that information to help teachers and its staff to improve their teaching and environment. Though the users could randomly click through the choices and thsi could be a negative affect of crowdsourcing, but the majority of students may be answering thruthfully, the teachers can get constructive feedback. \n",
    "\n",
    "Crowdsourcing can improve the playlist quality wiht a greater variety of songs for users to listen to. Crowdsourcing can decrease the quality of a playlist when people purposfully add bad or funny songs to a playlist.\n",
    "\n",
    "Songs: \n",
    "#1. Die With A Smile Lady Gaga, Bruno Mars\t\n",
    "#2. BIRDS OF A FEATHER Billie Eilish\n"
   ]
  }
 ],
 "metadata": {
  "kernelspec": {
   "display_name": "Python 3",
   "language": "python",
   "name": "python3"
  },
  "language_info": {
   "codemirror_mode": {
    "name": "ipython",
    "version": 3
   },
   "file_extension": ".py",
   "mimetype": "text/x-python",
   "name": "python",
   "nbconvert_exporter": "python",
   "pygments_lexer": "ipython3",
   "version": "3.11.3"
  }
 },
 "nbformat": 4,
 "nbformat_minor": 2
}
