{
 "cells": [
  {
   "cell_type": "raw",
   "metadata": {
    "vscode": {
     "languageId": "raw"
    }
   },
   "source": [
    "---\n",
    "layout: post\n",
    "title: Big Idea 4 COllege Board\n",
    "description:  My understanding of Big Idea 4\n",
    "comments: true\n",
    "permalink: /bigidea\n",
    "---"
   ]
  },
  {
   "cell_type": "markdown",
   "metadata": {},
   "source": [
    "Big Idea 4.1:\n",
    "the internet:\n",
    "Big computers evcolved to get smaller and smaller\n",
    "Packet is like an envelope with data which is sent from a source to a destination.\n",
    "Computers communicate by working together to achieve a common pupose. The netork helps computers to send and recieve data.\n",
    "A computer network is a computing system.\n",
    "A packet or a bit of information is chopped up into littel pieces and sent along a path. Order of sending and recieving data doesnt matter.\n",
    "A router helps find the path two compuiters take to talk to each other.\n",
    "Bandwith is the MAX speed at which a packet will flow.\n",
    "Computers communicate because they can transmit data.\n",
    "Packets are the envelope to transfer data.\n",
    "\n",
    "Path: Sequence of connected computing devices that begind at teh sender and ands at a reciever\n",
    "route: Process of finding a path from the sender to the reciever.\n",
    "Computer System: A group of computing devices that work together for a common purpose\n",
    "Copmputer Device: A physical device that has teh ability to run a program. Sensors, Computers, Servers, Ipad, Iphone\n",
    "Bandwith: Max amount of data that can be sent ion a fixed amount of time. Bits per second\n",
    "Computer Network: A group of computer devices that are capable of sending and recieving data.\n"
   ]
  },
  {
   "cell_type": "markdown",
   "metadata": {},
   "source": [
    "Big Idea 4.2 #1\n",
    "Fault Tolerance:\n"
   ]
  },
  {
   "cell_type": "markdown",
   "metadata": {},
   "source": [
    "Big Idea 4.2 #2"
   ]
  },
  {
   "cell_type": "markdown",
   "metadata": {},
   "source": [
    "Big Idea 4.3 \n",
    "Parrallel and Distributive Computing:\n"
   ]
  }
 ],
 "metadata": {
  "kernelspec": {
   "display_name": "Python 3",
   "language": "python",
   "name": "python3"
  },
  "language_info": {
   "codemirror_mode": {
    "name": "ipython",
    "version": 3
   },
   "file_extension": ".py",
   "mimetype": "text/x-python",
   "name": "python",
   "nbconvert_exporter": "python",
   "pygments_lexer": "ipython3",
   "version": "3.11.3"
  }
 },
 "nbformat": 4,
 "nbformat_minor": 2
}
