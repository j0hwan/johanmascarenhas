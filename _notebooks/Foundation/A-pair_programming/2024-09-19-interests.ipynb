{
 "cells": [
  {
   "cell_type": "raw",
   "metadata": {
    "vscode": {
     "languageId": "raw"
    }
   },
   "source": [
    "---\n",
    "layout: post\n",
    "title: interests\n",
    "description: My personal interests\n",
    "type: issues\n",
    "comments: true\n",
    "permalink: /interests\n",
    "---"
   ]
  },
  {
   "cell_type": "raw",
   "metadata": {},
   "source": []
  },
  {
   "cell_type": "markdown",
   "metadata": {},
   "source": [
    "Personal interests \n",
    "Interests: Coding, Artificial Intelligence, Engineering, Designing \n",
    "Hobbies: Gym, Video Games, Swimming, badminton, learning, filmmaking, health \n",
    "Languages: English, Spanish"
   ]
  },
  {
   "cell_type": "raw",
   "metadata": {
    "vscode": {
     "languageId": "raw"
    }
   },
   "source": [
    "athan and Aadit emphasized that communication is as important as technical skills, especially for interviews and teamwork.\n",
    "\n",
    "Both discussed how starting small with projects can lead to bigger, impactful ideas—encouraging reflection on personal experiences or solving real-world problems.\n",
    "\n",
    "Nathan’s mention of Scrum and Agile methods showed how college-level tools can prepare for real-world projects, inspiring me to explore those techniques.\n",
    "\n",
    "Aadit shared how being proactive and seeking inspiration (e.g., on GitHub) can help generate ideas, which motivates me to take initiative.\n",
    "\n",
    "Their stories, like Aadit’s work on Kasm servers and Nathan’s focus on community projects, showed the impact of combining skills with passion for helping others.\n",
    "\n",
    "They inspired me to value clear communication, problem-solving, and collaboration, which I can apply now and in the future.\n",
    "\n",
    "I learned that enjoying the journey while staying focused is key to success in high school, college, and beyond."
   ]
  },
  {
   "cell_type": "markdown",
   "metadata": {},
   "source": [
    "<img id=\"bullet\" src=\"https://encrypted-tbn0.gstatic.com/images?q=tbn:ANd9GcQFPRZ9GyLWF31_CqFDCUO0H193xxHU34thxA&s\" width=\"200\" >"
   ]
  }
 ],
 "metadata": {
  "kernelspec": {
   "display_name": "Python 3",
   "language": "python",
   "name": "python3"
  },
  "language_info": {
   "codemirror_mode": {
    "name": "ipython",
    "version": 3
   },
   "file_extension": ".py",
   "mimetype": "text/x-python",
   "name": "python",
   "nbconvert_exporter": "python",
   "pygments_lexer": "ipython3",
   "version": "3.11.3"
  }
 },
 "nbformat": 4,
 "nbformat_minor": 2
}
