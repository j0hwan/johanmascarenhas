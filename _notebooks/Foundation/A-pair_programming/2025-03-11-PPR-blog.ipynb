{
 "cells": [
  {
   "cell_type": "raw",
   "metadata": {
    "vscode": {
     "languageId": "raw"
    }
   },
   "source": [
    "---\n",
    "layout: post\n",
    "title: PPR Blog\n",
    "description:  My blog about the personal project reference\n",
    "comments: true\n",
    "permalink: /ppr\n",
    "---"
   ]
  },
  {
   "cell_type": "markdown",
   "metadata": {},
   "source": [
    "**number 1**\n",
    "Represneting a call function with teh existing data in teh datatable with all the locations"
   ]
  },
  {
   "cell_type": "markdown",
   "metadata": {},
   "source": [
    "function fetchDataFromBackend() {\n",
    "      fetch(`${URL}/api/explores`, safeFetchOptions)\n",
    "        .then(response => {\n",
    "          if (!response.ok) {\n",
    "            throw new Error('Error fetching data from /api/explores');\n",
    "          }\n",
    "          return response.json();\n",
    "        })\n",
    "        .then(data => {\n",
    "          citysMarkers.forEach(({ marker }) => map.removeLayer(marker));\n",
    "          citysMarkers = [];\n",
    "          data.forEach(city => {"
   ]
  },
  {
   "cell_type": "markdown",
   "metadata": {},
   "source": [
    "**number 2**"
   ]
  },
  {
   "cell_type": "markdown",
   "metadata": {},
   "source": [
    "My project fufulls the CPT requirements. My project is an interacatble map which you can add and view locations with filters. \n",
    "\n",
    "<img src=\"images/a.png\" alt=\"CPT\">"
   ]
  },
  {
   "cell_type": "markdown",
   "metadata": {},
   "source": [
    "number 3\n",
    "Here is my functions fetch system, and its fetch options.\n",
    "this is a representation of how my feature gets information, catches, and deals with errors."
   ]
  },
  {
   "cell_type": "markdown",
   "metadata": {},
   "source": [
    "function fetchExploreInterests() {\n",
    "      fetch(`${URL}/api/explores`, safeFetchOptions)\n",
    "        .then(response => {\n",
    "          if (!response.ok) {\n",
    "            throw new Error('Error fetching interests from /api/explores');\n",
    "          }\n",
    "          return response.json();\n",
    "        })\n",
    "        .then(data => {\n",
    "          // Additional interest logic can be added here if needed.\n",
    "        })\n",
    "        .catch(error => {\n",
    "          console.error('Error fetching interests:', error);\n",
    "          showErrorModal('Error fetching interests from /api/explores. Check console for details.');\n",
    "        });\n",
    "    }\n",
    "    \n",
    "    function submitLocation() {\n",
    "      if (editingCityId) {\n",
    "        updateLocation();\n",
    "      } else {\n",
    "        addLocation();\n",
    "      }\n",
    "    }\n",
    "    \n",
    "    function addLocation() {\n",
    "      if (!validateForm()) return;\n",
    "      const requestBody = {\n",
    "        name: nameInput.value.trim(),\n",
    "        value: valueInput.value.trim(),\n",
    "        position: latInput.value.trim() + ', ' + lngInput.value.trim(),\n",
    "        category: categorySelect.value.trim(),\n",
    "        interest: interestTags.join(', ')\n",
    "      };\n",
    "      fetch(`${URL}/api/explores`, {\n",
    "        method: 'POST',\n",
    "        headers: { 'Content-Type': 'application/json' },\n",
    "        body: JSON.stringify(requestBody)\n",
    "      })\n",
    "        .then(response => {\n",
    "          if (!response.ok) {\n",
    "            throw new Error('Error adding new explore location');\n",
    "          }\n",
    "          return response.json();\n",
    "        })\n",
    "        .then(data => {\n",
    "          showSuccessModal(`New location '${data.name}' added successfully!`);\n",
    "          fetchDataFromBackend();\n",
    "          clearForm();\n",
    "        })\n",
    "        .catch(error => {\n",
    "          console.error('Error adding new explore:', error);\n",
    "          showErrorModal('Failed to add the new location. Check console for details.');\n",
    "        });\n",
    "    }\n",
    "    "
   ]
  },
  {
   "cell_type": "markdown",
   "metadata": {},
   "source": [
    "**number 4**\n",
    "Here is where my function stores the data that is inputted into the form feature in my map with filters.\n",
    "There is a table with location, categories, tags, and location (long, lat) value."
   ]
  },
  {
   "cell_type": "markdown",
   "metadata": {},
   "source": [
    "<img src=\"images/db2.png\" alt=\"Resturant\">"
   ]
  }
 ],
 "metadata": {
  "kernelspec": {
   "display_name": "Python 3",
   "language": "python",
   "name": "python3"
  },
  "language_info": {
   "codemirror_mode": {
    "name": "ipython",
    "version": 3
   },
   "file_extension": ".py",
   "mimetype": "text/x-python",
   "name": "python",
   "nbconvert_exporter": "python",
   "pygments_lexer": "ipython3",
   "version": "3.11.3"
  }
 },
 "nbformat": 4,
 "nbformat_minor": 2
}
