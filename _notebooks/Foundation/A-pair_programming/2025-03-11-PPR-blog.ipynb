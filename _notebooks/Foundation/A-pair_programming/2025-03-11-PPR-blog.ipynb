{
 "cells": [
  {
   "cell_type": "raw",
   "metadata": {
    "vscode": {
     "languageId": "raw"
    }
   },
   "source": [
    "---\n",
    "layout: post\n",
    "title: PPR Blog\n",
    "description:  My blog about the personal project reference\n",
    "comments: true\n",
    "permalink: /ppr\n",
    "---"
   ]
  },
  {
   "cell_type": "markdown",
   "metadata": {},
   "source": [
    "**number 1**\n",
    "Represneting a call function with the existing data in the datatable with all the locations. The data is parsed as JSON and then processed to display on my map feature. Here the function is able to catch an error and then return an error output if data retrieval is not successful."
   ]
  },
  {
   "cell_type": "code",
   "execution_count": null,
   "metadata": {
    "vscode": {
     "languageId": "javascript"
    }
   },
   "outputs": [],
   "source": [
    "function fetchDataFromBackend() {\n",
    "      fetch(`${URL}/api/explores`, safeFetchOptions)\n",
    "        .then(response => {\n",
    "          if (!response.ok) {\n",
    "            throw new Error('Error fetching data from /api/explores');\n",
    "          }\n",
    "          return response.json();\n",
    "        })\n",
    "        .then(data => {\n",
    "          citysMarkers.forEach(({ marker }) => map.removeLayer(marker));\n",
    "          citysMarkers = [];\n",
    "          data.forEach(city => "
   ]
  },
  {
   "cell_type": "markdown",
   "metadata": {},
   "source": [
    "**number 2**"
   ]
  },
  {
   "cell_type": "markdown",
   "metadata": {},
   "source": [
    "*My project is an interacatble map which you can add and view locations with filters.*\n",
    "This code listens for click events on the map. When a click is detected, it places a marker at the clicked location. This interaction allows users to select and mark points of interest dynamically on the map.\n",
    "\n",
    "<img src=\"images/a.png\" alt=\"CPT\">"
   ]
  },
  {
   "cell_type": "code",
   "execution_count": null,
   "metadata": {
    "vscode": {
     "languageId": "javascript"
    }
   },
   "outputs": [],
   "source": [
    "map.on(\"click\", (e) => {\n",
    "  placeSelectedMarker(e.latlng);\n",
    "});"
   ]
  },
  {
   "cell_type": "markdown",
   "metadata": {},
   "source": [
    "number 3\n",
    "This function applies multiple filters on the map markers. It checks each marker against the selected cities, category, location input, and interest tags. Markers that meet all criteria remain visible, while others are removed. This provides a dynamic and interactive way to refine the map view."
   ]
  },
  {
   "cell_type": "code",
   "execution_count": null,
   "metadata": {
    "vscode": {
     "languageId": "javascript"
    }
   },
   "outputs": [],
   "source": [
    "function applyFilters() {\n",
    "  const activeCities = Array.from(document.querySelectorAll('.city-option:checked'))\n",
    "                            .map(cb => cb.value.toLowerCase());\n",
    "  const category = document.getElementById('category-filter').value.toLowerCase();\n",
    "  const locationStr = document.getElementById('location-filter').value.toLowerCase();\n",
    "  const interest = document.getElementById('interest-filter').value.toLowerCase();\n",
    "  \n",
    "  citysMarkers.forEach(({ city, marker }) => {\n",
    "    let isVisible = activeCities.includes(city.value.toLowerCase());\n",
    "    if (category && city.category.toLowerCase() !== category) isVisible = false;\n",
    "    if (locationStr && !city.name.toLowerCase().includes(locationStr)) isVisible = false;\n",
    "    if (interest && !city.interest.toLowerCase().includes(interest)) isVisible = false;\n",
    "    \n",
    "    isVisible ? marker.addTo(map) : marker.remove();\n",
    "  });\n",
    "}\n"
   ]
  },
  {
   "cell_type": "markdown",
   "metadata": {},
   "source": [
    "**number 4**\n",
    "Here is where my function stores the data that is inputted into the form feature in my map with filters.\n",
    "There is a table with location, categories, tags, and location (long, lat) value."
   ]
  },
  {
   "cell_type": "markdown",
   "metadata": {},
   "source": [
    "<img src=\"images/db2.png\" alt=\"Resturant\">"
   ]
  },
  {
   "cell_type": "markdown",
   "metadata": {},
   "source": [
    "**number 5**\n",
    "This function applies multiple filters to determine which markers should be visible. It checks the selected cities, category, location, and interest, dynamically updating the map view by adding or removing markers accordingly. This is the heart of my feature."
   ]
  },
  {
   "cell_type": "code",
   "execution_count": null,
   "metadata": {
    "vscode": {
     "languageId": "javascript"
    }
   },
   "outputs": [],
   "source": [
    "function applyFilters() {\n",
    "  const activeCities = Array.from(document.querySelectorAll('.city-option:checked'))\n",
    "                            .map(cb => cb.value.toLowerCase());\n",
    "  const category = document.getElementById('category-filter').value.toLowerCase();\n",
    "  const locationStr = document.getElementById('location-filter').value.toLowerCase();\n",
    "  const interest = document.getElementById('interest-filter').value.toLowerCase();\n",
    "  \n",
    "  citysMarkers.forEach(({ city, marker }) => {\n",
    "    let isVisible = activeCities.includes(city.value.toLowerCase());\n",
    "    if (category && city.category.toLowerCase() !== category) isVisible = false;\n",
    "    if (locationStr && !city.name.toLowerCase().includes(locationStr)) isVisible = false;\n",
    "    if (interest && !city.interest.toLowerCase().includes(interest)) isVisible = false;\n",
    "    \n",
    "    isVisible ? marker.addTo(map) : marker.remove();\n",
    "  });\n",
    "}\n"
   ]
  }
 ],
 "metadata": {
  "kernelspec": {
   "display_name": "Python 3",
   "language": "python",
   "name": "python3"
  },
  "language_info": {
   "codemirror_mode": {
    "name": "ipython",
    "version": 3
   },
   "file_extension": ".py",
   "mimetype": "text/x-python",
   "name": "python",
   "nbconvert_exporter": "python",
   "pygments_lexer": "ipython3",
   "version": "3.11.3"
  }
 },
 "nbformat": 4,
 "nbformat_minor": 2
}
