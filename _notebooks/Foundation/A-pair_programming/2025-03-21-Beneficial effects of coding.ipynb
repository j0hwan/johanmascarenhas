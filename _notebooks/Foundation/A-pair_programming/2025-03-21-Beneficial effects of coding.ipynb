{
 "cells": [
  {
   "cell_type": "raw",
   "metadata": {
    "vscode": {
     "languageId": "raw"
    }
   },
   "source": [
    "---\n",
    "layout: post\n",
    "title: Beneficial effects of computing homework blog\n",
    "description:  Homework 1, Beneficial effects of computing\n",
    "comments: true\n",
    "permalink: /Homework1\n",
    "---"
   ]
  },
  {
   "cell_type": "markdown",
   "metadata": {},
   "source": [
    "Beneficial effects of computing:\n",
    "\n",
    "Can improve healthcare\n",
    "Database \n",
    "Logging inventory\n",
    "Solutions for a specific problem\n",
    "\n",
    "Artistic \n",
    "\n",
    "\n",
    "Convenience and efficiency\n",
    "Drones to deliver packages\n",
    "\n",
    "Popcorn Hack #1: How does technological innovation impact society in both positive and negative ways? Provide an example\n",
    "\n",
    "Technological innovations help impact society in positive ways by providing efficient solutions quicker than humans could. For example, the new Majorana super computer by Microsoft would be able to solve some of the worlds most pressing problems in an efficient and most effective way.\n",
    "On the other hand, a negative impact of technological innovation is the money and time that goes toward building and making the technology widely available.\n",
    "\n",
    "\n",
    "Harmful effects of technology:\n",
    "Cyberbullying is a downside\n",
    "Can be avoided from not sharing too much info online\n",
    "AI can take away from critical skills and future jobs\n",
    "AI has gotten really smart and people rely on it to think and also \n",
    "Privacy can get exploited\n",
    "\n",
    "Popcorn hack #2 what is the meaning of the negative effects of technology, and how can we use responsible programming to avoid and reduce these unintended harmful impacts?\n",
    "\n",
    "The negative effects of technology include privacy breaches, AI bias, job displacement, environmental harm, and social isolation. Responsible programming helps mitigate these issues by ensuring data privacy, designing unbiased AI, promoting sustainability, and prioritizing user well-being. By following ethical coding practices, developers can create technology that benefits society while minimizing unintended harm.\n",
    "\n",
    "Self driving cars example\n",
    "-benefitial effects\n",
    "- avoids hazards and is efficient in traffic \n",
    "- optimizes traffic flow in na efficient way\n",
    "- accurate and safe speed and spacing compared to a human driver\n",
    "- can aid the elderly  of disabled\n",
    "-driving in optimized routes to reduce fuel consumption\n",
    "- harmful effects\n",
    "- replace jobs for people who rely off of UBER and Taxis\n",
    "- a system malfunction can add to safety threats\n",
    "- data is collected which can be a breach of privacy\n",
    "\n",
    "Using programs like Tiktok and Youtube Shorts with an algorithm have many positive and negative effects\n",
    "\n",
    "Positive: learning enhancement, and motivation\n",
    "\n",
    "Negative: addiction and can lead to mental health issues\n",
    "\n",
    "A balance can be struck when you set boundaries and engage in other hobbies.\n",
    "\n",
    "Popcorn Hack #3: Why is it important to understand the consequences of technology, especially dopamine-driven technology?\n",
    "\n",
    "It is important to understand technology and its consequences because misuse of tech can lead to mental health issues and privacy breaches which can negatively affect the quality of life the person leads in the future:\n",
    "\n",
    "Homework Hack #1: Rethinking AI for New Uses\n",
    "AI Innovation: Facial Recognition\n",
    " Original Use: Originally designed for security and identification purposes—used in phones, airports, and surveillance to recognize people's faces.\n",
    " New Use Case: Used in schools to automatically take attendance and monitor student engagement in classrooms.\n",
    "Impact:\n",
    " Benefits:\n",
    "Saves time and increases classroom efficiency.\n",
    "Helps identify students who are struggling by tracking focus and engagement.\n",
    "Risks:\n",
    "Raises privacy concerns for students and parents.\n",
    "Could be misused for excessive surveillance and control in educational settings.\n",
    "\n",
    "Homework Hack #2: Ethical AI \n",
    "Problem: AI algorithms used in predictive policing.\n",
    " Risk: These systems may target certain communities unfairly based on biased historical data, increasing discrimination and unjust policing.\n",
    "Solution 1: Train AI on diverse, unbiased data sets and remove historical patterns of discrimination.\n",
    " Solution 2: Implement human oversight panels to audit AI predictions and outcomes regularly.\n",
    "Reflection: Ethical AI development is crucial because technology affects real people’s lives. If we don’t consider fairness and accountability, AI could make existing social problems worse. Responsible coding helps make AI trustworthy and equitable.\n",
    "Homework Hack #3: AI & Unintended Consequences Research Task\n",
    "AI Example: Amazon’s AI recruiting tool.\n",
    " What Happened: Amazon developed an AI to help with hiring by scanning resumes. However, it began to favor male candidates over female ones, reflecting historical gender bias in tech hiring.\n",
    "Response: Amazon scrapped the tool after discovering the bias.\n",
    "Prevention: Developers could have used balanced datasets and tested the tool for bias before deployment. Regular audits and diverse teams in development would also help avoid such issues.\n",
    "\n"
   ]
  }
 ],
 "metadata": {
  "kernelspec": {
   "display_name": "Python 3",
   "language": "python",
   "name": "python3"
  },
  "language_info": {
   "codemirror_mode": {
    "name": "ipython",
    "version": 3
   },
   "file_extension": ".py",
   "mimetype": "text/x-python",
   "name": "python",
   "nbconvert_exporter": "python",
   "pygments_lexer": "ipython3",
   "version": "3.11.3"
  }
 },
 "nbformat": 4,
 "nbformat_minor": 2
}
