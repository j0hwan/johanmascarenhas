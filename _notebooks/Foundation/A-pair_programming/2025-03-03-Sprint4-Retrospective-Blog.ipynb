{
 "cells": [
  {
   "cell_type": "raw",
   "metadata": {
    "vscode": {
     "languageId": "raw"
    }
   },
   "source": [
    "---\n",
    "layout: post\n",
    "title: Sprint Retrospective Blog\n",
    "description:  what I have done and accomplished TRI 2 comp sci\n",
    "comments: true\n",
    "permalink: /bigidea\n",
    "---"
   ]
  },
  {
   "cell_type": "markdown",
   "metadata": {},
   "source": [
    "N@TM"
   ]
  },
  {
   "cell_type": "markdown",
   "metadata": {},
   "source": [
    "My future in Comp sci\n",
    "I chose to take this class because I wanted to expand my understanding of computer science—it seemed like a practical elective, especially as I prepare for college. From the very first lesson, I realized that computer science is so much more than just coding. We explored algorithms, problem-solving strategies, and the core principles that power today’s technology.\n",
    "\n",
    "This course has opened up opportunities I never expected. I’ve developed critical thinking skills, learned to collaborate effectively through group projects, and gained a structured approach to tackling complex problems. These skills will be invaluable as I continue studying computer science in college.\n",
    "\n",
    "Additionally, learning and applying Agile and Scrum methodologies has given me a strong foundation for college-level coursework. Hearing from computer science students about how AP CSP helped them succeed in college made me appreciate the value of this class even more. Now, I feel confident that the knowledge I’ve gained will serve me well in my future studies."
   ]
  },
  {
   "cell_type": "markdown",
   "metadata": {},
   "source": [
    "Individual Strengths and Weaknesses"
   ]
  },
  {
   "cell_type": "markdown",
   "metadata": {},
   "source": [
    "Next Step for my Project\n"
   ]
  },
  {
   "cell_type": "markdown",
   "metadata": {},
   "source": [
    "Honest Self Grade Assessment and summary of what I will talk about in the review.\n",
    "\n",
    "Roles: Backend UI UX, and frontend UI UX."
   ]
  },
  {
   "cell_type": "raw",
   "metadata": {
    "vscode": {
     "languageId": "raw"
    }
   },
   "source": []
  }
 ],
 "metadata": {
  "kernelspec": {
   "display_name": "Python 3",
   "language": "python",
   "name": "python3"
  },
  "language_info": {
   "codemirror_mode": {
    "name": "ipython",
    "version": 3
   },
   "file_extension": ".py",
   "mimetype": "text/x-python",
   "name": "python",
   "nbconvert_exporter": "python",
   "pygments_lexer": "ipython3",
   "version": "3.11.3"
  }
 },
 "nbformat": 4,
 "nbformat_minor": 2
}
