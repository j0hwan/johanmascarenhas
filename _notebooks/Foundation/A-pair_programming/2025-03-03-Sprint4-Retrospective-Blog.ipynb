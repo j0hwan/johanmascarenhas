{
 "cells": [
  {
   "cell_type": "raw",
   "metadata": {
    "vscode": {
     "languageId": "raw"
    }
   },
   "source": [
    "---\n",
    "layout: post\n",
    "title: Sprint Retrospective Blog\n",
    "description:  what I have done and accomplished TRI 2 comp sci\n",
    "comments: true\n",
    "permalink: /bigidea\n",
    "---"
   ]
  },
  {
   "cell_type": "markdown",
   "metadata": {},
   "source": [
    "**N@TM link**\n",
    "<a href=\"https://j0hwan.github.io/johanmascarenhas/museum\" target=\"_blank\">\n",
    "    <button style=\"padding: 10px 20px; font-size: 16px; cursor: pointer; background-color: #007BFF; color: white; border: none; border-radius: 5px;\">\n",
    "        Visit Museum\n",
    "    </button>\n",
    "</a>"
   ]
  },
  {
   "cell_type": "markdown",
   "metadata": {},
   "source": [
    "**My future in Comp sci**\n",
    "I chose to take this class because I wanted to expand my understanding of computer science. It seemed like a practical elective, especially as I prepare for college. From the very first lesson, I realized that computer science is so much more than just coding. We explored algorithms, problem-solving strategies, and the core principles that power today’s technology.\n",
    "\n",
    "This course has opened up opportunities I never expected. I’ve developed critical thinking skills, learned to collaborate effectively through group projects, and gained a structured approach to tackling complex problems. These skills will be invaluable as I continue studying computer science in college.\n",
    "\n",
    "Additionally, learning and applying Agile and Scrum methodologies has given me a strong foundation for college-level coursework. Hearing from computer science students about how AP CSP helped them succeed in college made me appreciate the value of this class even more. Now, I feel confident that the knowledge I’ve gained will serve me well in my future studies."
   ]
  },
  {
   "cell_type": "markdown",
   "metadata": {},
   "source": [
    "***Individual Strengths and Weaknesses***\n",
    "\n",
    "**Strengths:**\n",
    "- coding the material \n",
    "- collaboration (asking for help)\n",
    "- finding out information about projects/assignments\n",
    "- meeting deadlines\n",
    "\n",
    "**Weknesses**\n",
    "- being able to explain my code\n",
    "- leading and taking initiative of what I want to do and get done\n",
    "- not taking CSP seriously initially\n",
    "- not having a good coding background\n",
    "- group members were out\n",
    "- misscommunication between group mmebers\n",
    "- commiting and merging and git pulling with a team\n",
    "- getting caught up with grades\n",
    "- low on time because of a busy schedule\n"
   ]
  },
  {
   "cell_type": "markdown",
   "metadata": {},
   "source": [
    "**Next Step for my Project**\n",
    "For the next steps of my project, I will try to add new features and improve my features User interface. I got a lot of com;liments on my feature from numerous students and parents at Night At the Museum. I will try to work more on the home page and get my chatbot fully working since I took up the project a couple days ago. \n",
    "\n",
    "*During my time at night at the Museum, I witnessed a feature on teh Gifftinator website and Frostbyte website that had an AI chatbot integrated to their home page. I thought it was a very interesting, cool, and fun idea, so I decided to work on it over the weekend and tried my best to get it done.*\n",
    "\n",
    "I will also try to dedicate more time for my home page because I had to revert several changes due to a merge error which crashed our backend. I will try to make all of the features work on the main and as for my explore feature I will try to make it look more visually appealing."
   ]
  },
  {
   "cell_type": "markdown",
   "metadata": {},
   "source": [
    "**Honest Self Grade:**\n",
    "9.5/10\n",
    "\n",
    "Reasoning:\n",
    "*4.5/5 points* - I will discuss 5 things about what I did over the 12 weeks of this trimester. I will talk about my issues and burn down lists on my kanban board. I am sure I accomplished and even went above in certain aspects in what was given to me, but I feel there are still some gaps regarding the blogs or issues that I need to fix.\n",
    "*2 points -* I blogged my Full Stack Project, including CPT requirement highlights. And I provided the N@tM feedback in my retrospective blog and also provided some notes and pictures I took of people's projects. I also talked about how it will and already has affected my plans for my personal website and how I took inspiration from certain aspects of others' ideas.\n",
    "*1 point -* I blogged my explore map filter feature and used language from the CPT requirements and the FRQ\n",
    "*1/1 point* - MCQ: I completed the MCQ and evaluated myself. I blogged and fixed mistakes I made on the test. I also talked about the steps I need to take to improve myself\n",
    "*1/1 point-* To get the tenth point, I took many initiatives. \n",
    "I reached out to Rutvik C. and helped him prepare for the final Exam by providing him insightful tips on how to improve his choice of words and study habits.\n",
    "I took extreme interest in other people's Night At the Museum Projects by taking notes and pictures, and then going over those notes and pictures to get an idea of any extra features I think are necessary to add to my website. I already took inspiration from the Giftinator and Frostbyte Chatbot and dedicated a weekend to add that feature and implement it to our own website.\n",
    "I performed a practice review with Noah Harris, Elliot Y, and Zaffer A. We talked about how we could improve our live review on a video call.\n",
    "I reflect on my strengths and weaknesses in my blog\n",
    "I reflect on my project and create the next steps and plans\n",
    "I include a summary of what I will be talking about (this is a little late)\n",
    "I also include an honest self assessment summary\n",
    "I will do my best to summarize this all in 3 minutes\n",
    "Future plans relating to Comp Sci.\n",
    "\n",
    "\n",
    "**My 5 points I will be talking about:**\n",
    "\n",
    "I will review my explore feature. I will be talking about Full Stack. I will also be demonstrating CRUD operations for the database. I will prove to you that my data is able to be stored on the tables in cockpit.\n",
    "I will briefly demonstrate the Full stack Blog in my explore feature.\n",
    "Roles: \n",
    "\t\t\t\n",
    "Frontend UI UX engineer: I styled the entire homepage and added many elements for the user to navigate through\n",
    "Backend admin engineer: I edited the backend UI and performed the necessary functions to get the file running\n",
    "\n",
    "MCQ blog: I will show the MCQ completion of the test and the blog that goes over what I got wrong, corrections, and my next steps.\n",
    "Lastly, I will present my Sprint Retrospective Blog, with plans on improving in the future, strengths, and my weaknesses, future in CSP, and Night at the Museum feedback and notes.\n"
   ]
  },
  {
   "cell_type": "raw",
   "metadata": {
    "vscode": {
     "languageId": "raw"
    }
   },
   "source": []
  }
 ],
 "metadata": {
  "kernelspec": {
   "display_name": "Python 3",
   "language": "python",
   "name": "python3"
  },
  "language_info": {
   "codemirror_mode": {
    "name": "ipython",
    "version": 3
   },
   "file_extension": ".py",
   "mimetype": "text/x-python",
   "name": "python",
   "nbconvert_exporter": "python",
   "pygments_lexer": "ipython3",
   "version": "3.11.3"
  }
 },
 "nbformat": 4,
 "nbformat_minor": 2
}
