{
 "cells": [
  {
   "cell_type": "raw",
   "metadata": {
    "vscode": {
     "languageId": "raw"
    }
   },
   "source": [
    "---\n",
    "layout: post\n",
    "title: Undecidable and decidable problems w/ homeworks\n",
    "comments: true\n",
    "permalink: /Decide\n",
    "---"
   ]
  },
  {
   "cell_type": "markdown",
   "metadata": {},
   "source": [
    "Popcorn Hack 1\n",
    "An algorithm can be used to solve an undecidable problem. (This is Falso))\n",
    "\n",
    "Popcorn Hack 2\n",
    "If a programmer encounters an undecidable problem, they can just use an alogirhtm that works most of the time. (This is true)\n",
    "\n",
    "Popcorn Hack 3\n",
    "Which of the following options is not an example of an undecidable problem?\n",
    "\n",
    "A. Halting Problem\n",
    "\n",
    "B. The Collatz Conjecture\n",
    "\n",
    "C. Rice’s Theorem\n",
    "\n",
    "D. Bubble sorting\n",
    "\n",
    "The answer is Bubble sorting\n",
    "\n",
    "\n",
    "# Handling Infinite Loops in Modern Systems\n",
    "\n",
    "Modern operating systems and browsers cannot always detect infinite loops because it's an undecidable problem, but they use practical tools to manage them. For example, browsers like Chrome show an error message like “Page Unresponsive” if a script runs too long, and give users the option to stop it. Operating systems use task managers or activity monitors to detect when a program is using too much CPU or memory, allowing users to force quit it. These systems rely on timeouts, resource limits, and user input to handle problems that can’t be solved automatically, helping prevent crashes or freezes.\n"
   ]
  },
  {
   "cell_type": "markdown",
   "metadata": {},
   "source": [
    "**Graphs & Heuristics**"
   ]
  },
  {
   "cell_type": "markdown",
   "metadata": {},
   "source": [
    "# Popcorn Hacks – Directed Graphs & Heuristics\n",
    "\n",
    "## Popcorn Hack #1\n",
    "**True or False:**  \n",
    "In a directed graph, an edge from node A to node B implies that there is always a corresponding edge from node B to node A.  \n",
    "**Answer:** **False**  \n",
    "Explanation: In a directed graph, edges have direction. An edge from A to B does not mean there is an edge from B to A.\n",
    "\n",
    "---\n",
    "\n",
    "## Popcorn Hack #2\n",
    "**True or False:**  \n",
    "Heuristics always provide faster solutions than exact algorithms, but they may sacrifice accuracy for speed.  \n",
    "**Answer:** **True**  \n",
    "Explanation: Heuristic methods are designed to find quick, good-enough solutions. They often trade accuracy for speed.\n",
    "\n",
    "---\n",
    "\n",
    "## Popcorn Hack #3\n",
    "**True or False:**  \n",
    "While heuristic algorithms like the Nearest Neighbor algorithm can significantly reduce the computational time for TSP, they can never guarantee an optimal solution, and the gap between the heuristic solution and the optimal solution can grow exponentially as the number\n",
    "**Answer: is true**\n"
   ]
  }
 ],
 "metadata": {
  "kernelspec": {
   "display_name": "venv",
   "language": "python",
   "name": "python3"
  },
  "language_info": {
   "codemirror_mode": {
    "name": "ipython",
    "version": 3
   },
   "file_extension": ".py",
   "mimetype": "text/x-python",
   "name": "python",
   "nbconvert_exporter": "python",
   "pygments_lexer": "ipython3",
   "version": "3.12.3"
  }
 },
 "nbformat": 4,
 "nbformat_minor": 2
}
