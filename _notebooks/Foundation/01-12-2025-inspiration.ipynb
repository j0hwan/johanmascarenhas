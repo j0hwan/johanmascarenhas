{
 "cells": [
  {
   "cell_type": "raw",
   "metadata": {
    "vscode": {
     "languageId": "raw"
    }
   },
   "source": [
    "---\n",
    "layout: post\n",
    "title: CSP Inspiration \n",
    "description:  How the presentation Inspired me and the key takaeways from the presentation.\n",
    "type: issues \n",
    "comments: true\n",
    "permalink: /Inspiration\n",
    "--\n"
   ]
  },
  {
   "cell_type": "markdown",
   "metadata": {},
   "source": [
    "Nathan and Aadit emphasized that communication is as important as technical skills, especially for interviews and teamwork.\n",
    "\n",
    "Both discussed how starting small with projects can lead to bigger, impactful ideas—encouraging reflection on personal experiences or solving real-world problems.\n",
    "\n",
    "Nathan’s mention of Scrum and Agile methods showed how college-level tools can prepare for real-world projects, inspiring me to explore those techniques.\n",
    "\n",
    "Aadit shared how being proactive and seeking inspiration (e.g., on GitHub) can help generate ideas, which motivates me to take initiative.\n",
    "\n",
    "Their stories, like Aadit’s work on Kasm servers and Nathan’s focus on community projects, showed the impact of combining skills with passion for helping others.\n",
    "\n",
    "They inspired me to value clear communication, problem-solving, and collaboration, which I can apply now and in the future.\n",
    "\n",
    "I learned that enjoying the journey while staying focused is key to success in high school, college, and beyond."
   ]
  },
  {
   "cell_type": "markdown",
   "metadata": {},
   "source": []
  },
  {
   "cell_type": "markdown",
   "metadata": {},
   "source": [
    "Right now I am surrounded by my amazing friends like <a href=\"https://media.discordapp.net/attachments/1241609466537967616/1282570309018456155/lp_image.jpg?ex=66dfd62e&is=66de84ae&hm=f7b453559b32688ca708852041b4551a1bf0a86dddbc37ad7b6bd22a1d8510b0&=&format=webp&width=259&height=564\" target= \"_blank\">Noah Harris"
   ]
  }
 ],
 "metadata": {
  "kernelspec": {
   "display_name": "Python 3",
   "language": "python",
   "name": "python3"
  },
  "language_info": {
   "codemirror_mode": {
    "name": "ipython",
    "version": 3
   },
   "file_extension": ".py",
   "mimetype": "text/x-python",
   "name": "python",
   "nbconvert_exporter": "python",
   "pygments_lexer": "ipython3",
   "version": "3.11.3"
  }
 },
 "nbformat": 4,
 "nbformat_minor": 2
}
