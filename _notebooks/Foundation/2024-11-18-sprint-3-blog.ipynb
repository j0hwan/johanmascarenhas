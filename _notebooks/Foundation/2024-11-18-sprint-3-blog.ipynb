{
 "cells": [
  {
   "cell_type": "raw",
   "metadata": {
    "vscode": {
     "languageId": "raw"
    }
   },
   "source": [
    "---\n",
    "layout: post\n",
    "title: Sprint 1 - Objectives \n",
    "description:  Tools and Software Development for Sprint 1\n",
    "type: issues \n",
    "comments: true\n",
    "---"
   ]
  },
  {
   "cell_type": "markdown",
   "metadata": {
    "vscode": {
     "languageId": "raw"
    }
   },
   "source": [
    "I had many bad points and good points thouought my MC quiz for AP CSP. Here are some of the stuff I struggled with below.\n",
    "\n",
    "\n",
    "My worst point was developing algorithms. (3.9)\n",
    "An example of this is question 9 when I had to describe the benefits of using iterative and incremental process of program development. I answered that it allows programmers to implement algorithmic solutions to unsolvable problems. This was obviously incorrect because unsolvable problems cannot be solved with an algorithm. To improve in the future I think I can use common sense and my knowledge of computer science to understand "
   ]
  },
  {
   "cell_type": "markdown",
   "metadata": {},
   "source": [
    "Another thing I struggled with was unit 2.B with the logic gates topic. An example of this was input and otput with an and & or & or gate with 4 different inputs.I misread the answer choices and chose false false false true for the gate when in reality it shoudl have been true true true false. My options were opposite of what they needed to be."
   ]
  },
  {
   "cell_type": "markdown",
   "metadata": {},
   "source": [
    "Another issue I came across with was unit 1.D where I had to analyze graphs and the number of steps an algorithm has to take.In an algorithm that has 10 items and needs 100 steps vs 60 items and 3600 steps, I notices that the jump in steps was very significant if not exponential. I thought this was unreasonable time for the algorithm to run but it was. I misjudged the amount of steps it would need to take to anayze for 60 items because it is significantly a lot compared to 10 items and it does not to be a linear growth in steps."
   ]
  },
  {
   "cell_type": "markdown",
   "metadata": {},
   "source": [
    "Another unit i really struggled on was unit 5.B. An exampel of this unit was in question 32 where I was asked to analyze a graph and compare answer choices that were most consistent with the data. I analyzed the graph wrong andanswered a choice that was completly opposite of what was provided in the graph. After looking at the graph more carefully I am now able to undertsand how to read the graph more effetively.\n",
    "\n",
    "I also need to identify and correct erors, unit 1.4. I need to improve identifying errirs in code. An example of this was question 66 where I had to analyze a code which returns the least values ina  list.\n",
    "\n",
    "In conclusion I think I have to learn how to analyze graphs, questions and answer choices more carefully. I learned about iterative approaches, more on how algorithms work, and graph and social analysis.\n",
    "\n"
   ]
  },
  {
   "cell_type": "markdown",
   "metadata": {},
   "source": []
  }
 ],
 "metadata": {
  "language_info": {
   "name": "python"
  }
 },
 "nbformat": 4,
 "nbformat_minor": 2
}
